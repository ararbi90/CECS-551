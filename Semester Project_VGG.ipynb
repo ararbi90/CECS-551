{
 "cells": [
  {
   "cell_type": "code",
   "execution_count": 2,
   "metadata": {},
   "outputs": [],
   "source": [
    "from __future__ import print_function\n",
    "import keras\n",
    "from keras.datasets import cifar10\n",
    "from keras.preprocessing.image import ImageDataGenerator\n",
    "from keras.models import Sequential\n",
    "from keras.layers import Dense, Dropout, Activation, Flatten\n",
    "from keras.layers import Conv2D, MaxPooling2D, Conv1D, MaxPooling1D\n",
    "from keras.optimizers import SGD, Adam\n",
    "import matplotlib.pyplot as plt\n",
    "import numpy as np\n",
    "%matplotlib inline"
   ]
  },
  {
   "cell_type": "code",
   "execution_count": 3,
   "metadata": {},
   "outputs": [
    {
     "name": "stdout",
     "output_type": "stream",
     "text": [
      "Train data shape:  (25709, 48, 48, 1)\n",
      "Train labels shape:  (25709,)\n",
      "Validation data shape:  (3000, 48, 48, 1)\n",
      "Validation labels shape:  (3000,)\n",
      "Public test data shape:  (1000, 48, 48, 1)\n",
      "Public test labels shape:  (1000,)\n",
      "Private test data shape:  (1000, 48, 48, 1)\n",
      "Private test labels shape:  (1000,)\n"
     ]
    }
   ],
   "source": [
    "from utils import load_data\n",
    "\n",
    "def get_data(num_training=25709, num_validation=3000, num_pub_test=1000, num_pri_test=1000):\n",
    "    \"\"\"\n",
    "    Load the dataset from disk and perform preprocessing to prepare\n",
    "    it for the two-layer neural net classifier. These are the same steps as\n",
    "    we used for the SVM, but condensed to a single function.  \n",
    "    \"\"\"\n",
    "    X_train, y_train, X_pub_test, y_pub_test, X_pri_test, y_pri_test = load_data()\n",
    "    # Subsample the data\n",
    "    mask = list(range(num_training, num_training + num_validation))\n",
    "    X_val = X_train[mask]\n",
    "    y_val = y_train[mask]\n",
    "    mask = list(range(num_training))\n",
    "    X_train = X_train[mask]\n",
    "    y_train = y_train[mask]\n",
    "    mask = list(range(num_pub_test))\n",
    "    X_pub_test = X_pub_test[mask]\n",
    "    y_pub_test = y_pub_test[mask]\n",
    "    mask = list(range(num_pri_test))\n",
    "    X_pri_test = X_pri_test[mask]\n",
    "    y_pri_test = y_pri_test[mask]\n",
    "\n",
    "#     # Normalize the data: subtract the mean image\n",
    "    mean_image = np.mean(X_train, axis=0)\n",
    "    X_train -= mean_image\n",
    "    X_val -= mean_image\n",
    "    X_pub_test -= mean_image\n",
    "    X_pri_test -= mean_image  \n",
    "    return X_train, y_train, X_val, y_val, X_pub_test, y_pub_test, X_pri_test, y_pri_test\n",
    "    #return X_train, y_train, X_pub_test, y_pub_test, X_pri_test, y_pri_test\n",
    "\n",
    "# Cleaning up variables to prevent loading data multiple times (which may cause memory issue)\n",
    "try:\n",
    "   del X_train, y_train\n",
    "   del X_pub_test, y_pub_test\n",
    "   del X_pri_test, y_pri_test\n",
    "   print('Clear previously loaded data.')\n",
    "except:\n",
    "   pass\n",
    "\n",
    "# Invoke the above function to get our data.\n",
    "X_train, y_train, X_val, y_val, X_pub_test, y_pub_test, X_pri_test, y_pri_test = get_data()\n",
    "#X_train, y_train, X_pub_test, y_pub_test, X_pri_test, y_pri_test = get_data()\n",
    "\n",
    "print('Train data shape: ', X_train.shape)\n",
    "print('Train labels shape: ', y_train.shape)\n",
    "print('Validation data shape: ', X_val.shape)\n",
    "print('Validation labels shape: ', y_val.shape)\n",
    "print('Public test data shape: ', X_pub_test.shape)\n",
    "print('Public test labels shape: ', y_pub_test.shape)\n",
    "print('Private test data shape: ', X_pri_test.shape)\n",
    "print('Private test labels shape: ', y_pri_test.shape)"
   ]
  },
  {
   "cell_type": "code",
   "execution_count": 6,
   "metadata": {},
   "outputs": [
    {
     "data": {
      "text/plain": [
       "(48, 48, 1)"
      ]
     },
     "execution_count": 6,
     "metadata": {},
     "output_type": "execute_result"
    }
   ],
   "source": [
    "X_train[444].shape\n"
   ]
  },
  {
   "cell_type": "code",
   "execution_count": 7,
   "metadata": {},
   "outputs": [
    {
     "name": "stdout",
     "output_type": "stream",
     "text": [
      "3\n"
     ]
    },
    {
     "data": {
      "image/png": "[encoded data removed]",
      "text/plain": [
       "<Figure size 432x288 with 1 Axes>"
      ]
     },
     "metadata": {
      "needs_background": "light"
     },
     "output_type": "display_data"
    }
   ],
   "source": [
    "print(y_train[444])\n",
    "plt.imshow(X_train[444].reshape(48, 48));"
   ]
  },
  {
   "cell_type": "code",
   "execution_count": 4,
   "metadata": {},
   "outputs": [],
   "source": [
    "num_classes = 7\n",
    "\n",
    "y_train = keras.utils.to_categorical(y_train, num_classes)\n",
    "y_val = keras.utils.to_categorical(y_val, num_classes)\n",
    "y_pub_test = keras.utils.to_categorical(y_pub_test, num_classes)\n",
    "y_pri_test = keras.utils.to_categorical(y_pri_test, num_classes)"
   ]
  },
  {
   "cell_type": "code",
   "execution_count": 9,
   "metadata": {},
   "outputs": [
    {
     "data": {
      "text/plain": [
       "array([0., 0., 0., 1., 0., 0., 0.], dtype=float32)"
      ]
     },
     "execution_count": 9,
     "metadata": {},
     "output_type": "execute_result"
    }
   ],
   "source": [
    "y_train[444]"
   ]
  },
  {
   "cell_type": "code",
   "execution_count": 5,
   "metadata": {},
   "outputs": [],
   "source": [
    "# As before, let's make everything float and scale\n",
    "X_train = X_train.astype('float32')\n",
    "X_val = X_val.astype('float32')\n",
    "X_pub_test = X_pub_test.astype('float32')\n",
    "X_pri_test = X_pri_test.astype('float32')\n",
    "\n",
    "X_train /= 255\n",
    "X_val /= 255\n",
    "X_pub_test /= 255\n",
    "X_pri_test /= 255"
   ]
  },
  {
   "cell_type": "code",
   "execution_count": 6,
   "metadata": {},
   "outputs": [
    {
     "name": "stdout",
     "output_type": "stream",
     "text": [
      "WARNING:tensorflow:From /home/minhthong04111989/anaconda3/envs/myproj/lib/python3.6/site-packages/tensorflow/python/framework/op_def_library.py:263: colocate_with (from tensorflow.python.framework.ops) is deprecated and will be removed in a future version.\n",
      "Instructions for updating:\n",
      "Colocations handled automatically by placer.\n",
      "WARNING:tensorflow:From /home/minhthong04111989/anaconda3/envs/myproj/lib/python3.6/site-packages/keras/backend/tensorflow_backend.py:3445: calling dropout (from tensorflow.python.ops.nn_ops) with keep_prob is deprecated and will be removed in a future version.\n",
      "Instructions for updating:\n",
      "Please use `rate` instead of `keep_prob`. Rate should be set to `rate = 1 - keep_prob`.\n",
      "_________________________________________________________________\n",
      "Layer (type)                 Output Shape              Param #   \n",
      "=================================================================\n",
      "conv2d_1 (Conv2D)            (None, 48, 48, 16)        80        \n",
      "_________________________________________________________________\n",
      "activation_1 (Activation)    (None, 48, 48, 16)        0         \n",
      "_________________________________________________________________\n",
      "batch_normalization_1 (Batch (None, 48, 48, 16)        64        \n",
      "_________________________________________________________________\n",
      "max_pooling2d_1 (MaxPooling2 (None, 16, 16, 16)        0         \n",
      "_________________________________________________________________\n",
      "dropout_1 (Dropout)          (None, 16, 16, 16)        0         \n",
      "_________________________________________________________________\n",
      "conv2d_2 (Conv2D)            (None, 16, 16, 32)        2080      \n",
      "_________________________________________________________________\n",
      "activation_2 (Activation)    (None, 16, 16, 32)        0         \n",
      "_________________________________________________________________\n",
      "batch_normalization_2 (Batch (None, 16, 16, 32)        128       \n",
      "_________________________________________________________________\n",
      "conv2d_3 (Conv2D)            (None, 16, 16, 32)        4128      \n",
      "_________________________________________________________________\n",
      "activation_3 (Activation)    (None, 16, 16, 32)        0         \n",
      "_________________________________________________________________\n",
      "batch_normalization_3 (Batch (None, 16, 16, 32)        128       \n",
      "_________________________________________________________________\n",
      "max_pooling2d_2 (MaxPooling2 (None, 8, 8, 32)          0         \n",
      "_________________________________________________________________\n",
      "dropout_2 (Dropout)          (None, 8, 8, 32)          0         \n",
      "_________________________________________________________________\n",
      "conv2d_4 (Conv2D)            (None, 8, 8, 64)          8256      \n",
      "_________________________________________________________________\n",
      "activation_4 (Activation)    (None, 8, 8, 64)          0         \n",
      "_________________________________________________________________\n",
      "batch_normalization_4 (Batch (None, 8, 8, 64)          256       \n",
      "_________________________________________________________________\n",
      "conv2d_5 (Conv2D)            (None, 8, 8, 64)          16448     \n",
      "_________________________________________________________________\n",
      "activation_5 (Activation)    (None, 8, 8, 64)          0         \n",
      "_________________________________________________________________\n",
      "batch_normalization_5 (Batch (None, 8, 8, 64)          256       \n",
      "_________________________________________________________________\n",
      "max_pooling2d_3 (MaxPooling2 (None, 4, 4, 64)          0         \n",
      "_________________________________________________________________\n",
      "dropout_3 (Dropout)          (None, 4, 4, 64)          0         \n",
      "_________________________________________________________________\n",
      "flatten_1 (Flatten)          (None, 1024)              0         \n",
      "_________________________________________________________________\n",
      "dense_1 (Dense)              (None, 512)               524800    \n",
      "_________________________________________________________________\n",
      "activation_6 (Activation)    (None, 512)               0         \n",
      "_________________________________________________________________\n",
      "batch_normalization_6 (Batch (None, 512)               2048      \n",
      "_________________________________________________________________\n",
      "dropout_4 (Dropout)          (None, 512)               0         \n",
      "_________________________________________________________________\n",
      "dense_2 (Dense)              (None, 7)                 3591      \n",
      "_________________________________________________________________\n",
      "activation_7 (Activation)    (None, 7)                 0         \n",
      "=================================================================\n",
      "Total params: 562,263\n",
      "Trainable params: 560,823\n",
      "Non-trainable params: 1,440\n",
      "_________________________________________________________________\n"
     ]
    },
    {
     "data": {
      "text/plain": [
       "(48, 48, 1)"
      ]
     },
     "execution_count": 6,
     "metadata": {},
     "output_type": "execute_result"
    }
   ],
   "source": [
    "#VGG MODEL\n",
    "# Create model_2 as mentioned in the exercise\n",
    "# Let's build a CNN using Keras' Sequential capabilities\n",
    "from keras.layers.normalization import BatchNormalization\n",
    "model = Sequential()\n",
    "\n",
    "# # # 1st Convolutional Layer\n",
    "# model.add(Conv2D(filters=32, input_shape=X_train.shape[1:], kernel_size= (3, 3), strides=1, padding='same'))\n",
    "# model.add(Activation('relu'))\n",
    "# model.add(BatchNormalization())\n",
    "# model.add(MaxPooling2D(pool_size=(2, 2) , strides=2, padding='same'))\n",
    "# model.add(Dropout(0.25))\n",
    "\n",
    "\n",
    "# # # 2nd Convolutional Layer\n",
    "# model.add(Conv2D(filters=64, kernel_size=(3, 3), strides=1, padding='same'))\n",
    "# model.add(Activation('relu'))\n",
    "# model.add(BatchNormalization())\n",
    "\n",
    "\n",
    "# # # Max Pooling\n",
    "# model.add(MaxPooling2D(pool_size=(2, 2), strides=2, padding='same'))\n",
    "# model.add(Dropout(0.25))\n",
    "\n",
    "# # # 3rd Convolutional Layer\n",
    "# model.add(Conv2D(filters=128, kernel_size=(3, 3), strides=1, padding='same'))\n",
    "# model.add(Activation('relu'))\n",
    "# model.add(BatchNormalization())\n",
    "# # # 4th Convolutional Layer\n",
    "# model.add(Conv2D(filters=128, kernel_size=(3, 3), strides=1, padding='same'))\n",
    "# model.add(Activation('relu'))\n",
    "# model.add(BatchNormalization())\n",
    "# #Max Pooling\n",
    "# model.add(MaxPooling2D(pool_size=(2, 2), strides=2, padding='same'))\n",
    "# model.add(Dropout(0.25))\n",
    "\n",
    "\n",
    "# # # 5th Convolutional Layer\n",
    "# model.add(Conv2D(filters=256, kernel_size=(3, 3), strides=1, padding='same'))\n",
    "# model.add(Activation('relu'))\n",
    "# model.add(BatchNormalization())\n",
    "# # # 5th Convolutional Layer\n",
    "# model.add(Conv2D(filters=256, kernel_size=(3, 3), strides=1, padding='same'))\n",
    "# model.add(Activation('relu'))\n",
    "# model.add(BatchNormalization())\n",
    "# #Max Pooling\n",
    "# model.add(MaxPooling2D(pool_size=(2, 2), strides=2, padding='same'))\n",
    "# model.add(Dropout(0.25))\n",
    "\n",
    "\n",
    "\n",
    "# # Passing it to a Fully Connected layer\n",
    "# model.add(Flatten())\n",
    "# # 1st Fully Connected Layer\n",
    "# model.add(Dense(2048))\n",
    "# model.add(Activation('relu'))\n",
    "# model.add(BatchNormalization())\n",
    "# # Add Dropout to prevent overfitting\n",
    "# model.add(Dropout(0.5))\n",
    "\n",
    "# # Output Layer\n",
    "# model.add(Dense(7))\n",
    "# model.add(Activation('softmax'))\n",
    "\n",
    "model.add(Conv2D(16, (2, 2), padding=\"same\",\n",
    "input_shape=X_train.shape[1:]))\n",
    "model.add(Activation(\"relu\"))\n",
    "model.add(BatchNormalization())\n",
    "model.add(MaxPooling2D(pool_size=(3, 3)))\n",
    "model.add(Dropout(0.25))\n",
    "\n",
    "# (CONV => RELU) * 2 => POOL\n",
    "model.add(Conv2D(32, (2, 2), padding=\"same\"))\n",
    "model.add(Activation(\"relu\"))\n",
    "model.add(BatchNormalization())\n",
    "model.add(Conv2D(32, (2, 2), padding=\"same\"))\n",
    "model.add(Activation(\"relu\"))\n",
    "model.add(BatchNormalization())\n",
    "model.add(MaxPooling2D(pool_size=(2, 2)))\n",
    "model.add(Dropout(0.25))\n",
    "\n",
    "# (CONV => RELU) * 2 => POOL\n",
    "model.add(Conv2D(64, (2, 2), padding=\"same\"))\n",
    "model.add(Activation(\"relu\"))\n",
    "model.add(BatchNormalization())\n",
    "model.add(Conv2D(64, (2, 2), padding=\"same\"))\n",
    "model.add(Activation(\"relu\"))\n",
    "model.add(BatchNormalization())\n",
    "model.add(MaxPooling2D(pool_size=(2, 2)))\n",
    "model.add(Dropout(0.25))\n",
    "\n",
    "# first (and only) set of FC => RELU layers\n",
    "model.add(Flatten())\n",
    "model.add(Dense(512))\n",
    "model.add(Activation(\"relu\"))\n",
    "model.add(BatchNormalization())\n",
    "model.add(Dropout(0.5))\n",
    "\n",
    "# softmax classifier\n",
    "model.add(Dense(7))\n",
    "model.add(Activation(\"softmax\"))\n",
    "\n",
    "model.summary()\n",
    "X_train.shape[1:]"
   ]
  },
  {
   "cell_type": "code",
   "execution_count": 10,
   "metadata": {},
   "outputs": [
    {
     "name": "stdout",
     "output_type": "stream",
     "text": [
      "WARNING:tensorflow:From /home/minhthong04111989/anaconda3/envs/myproj/lib/python3.6/site-packages/tensorflow/python/ops/math_ops.py:3066: to_int32 (from tensorflow.python.ops.math_ops) is deprecated and will be removed in a future version.\n",
      "Instructions for updating:\n",
      "Use tf.cast instead.\n",
      "Train on 25709 samples, validate on 3000 samples\n",
      "Epoch 1/50\n",
      "25709/25709 [==============================] - 43s 2ms/step - loss: 2.1372 - acc: 0.2626 - val_loss: 1.5981 - val_acc: 0.3750\n",
      "Epoch 2/50\n",
      "25709/25709 [==============================] - 36s 1ms/step - loss: 1.6777 - acc: 0.3486 - val_loss: 1.5283 - val_acc: 0.4120\n",
      "Epoch 3/50\n",
      "25709/25709 [==============================] - 36s 1ms/step - loss: 1.5717 - acc: 0.3886 - val_loss: 1.4554 - val_acc: 0.4407\n",
      "Epoch 4/50\n",
      "25709/25709 [==============================] - 36s 1ms/step - loss: 1.5051 - acc: 0.4129 - val_loss: 1.3739 - val_acc: 0.4670\n",
      "Epoch 5/50\n",
      "25709/25709 [==============================] - 37s 1ms/step - loss: 1.4493 - acc: 0.4404 - val_loss: 1.3316 - val_acc: 0.4773\n",
      "Epoch 6/50\n",
      "25709/25709 [==============================] - 36s 1ms/step - loss: 1.4141 - acc: 0.4553 - val_loss: 1.2729 - val_acc: 0.4997\n",
      "Epoch 7/50\n",
      "25709/25709 [==============================] - 36s 1ms/step - loss: 1.3765 - acc: 0.4731 - val_loss: 1.2985 - val_acc: 0.5023\n",
      "Epoch 8/50\n",
      "25709/25709 [==============================] - 36s 1ms/step - loss: 1.3420 - acc: 0.4840 - val_loss: 1.2452 - val_acc: 0.5133\n",
      "Epoch 9/50\n",
      "25709/25709 [==============================] - 37s 1ms/step - loss: 1.3181 - acc: 0.4915 - val_loss: 1.2373 - val_acc: 0.5283\n",
      "Epoch 10/50\n",
      "25709/25709 [==============================] - 36s 1ms/step - loss: 1.2962 - acc: 0.5050 - val_loss: 1.2310 - val_acc: 0.5257\n",
      "Epoch 11/50\n",
      "25709/25709 [==============================] - 36s 1ms/step - loss: 1.2748 - acc: 0.5118 - val_loss: 1.1899 - val_acc: 0.5453\n",
      "Epoch 12/50\n",
      "25709/25709 [==============================] - 36s 1ms/step - loss: 1.2575 - acc: 0.5199 - val_loss: 1.1949 - val_acc: 0.5370\n",
      "Epoch 13/50\n",
      "25709/25709 [==============================] - 37s 1ms/step - loss: 1.2435 - acc: 0.5260 - val_loss: 1.1419 - val_acc: 0.5630\n",
      "Epoch 14/50\n",
      "25709/25709 [==============================] - 36s 1ms/step - loss: 1.2255 - acc: 0.5327 - val_loss: 1.1513 - val_acc: 0.5573\n",
      "Epoch 15/50\n",
      "25709/25709 [==============================] - 36s 1ms/step - loss: 1.2074 - acc: 0.5376 - val_loss: 1.1470 - val_acc: 0.5573\n",
      "Epoch 16/50\n",
      "25709/25709 [==============================] - 36s 1ms/step - loss: 1.1927 - acc: 0.5428 - val_loss: 1.1332 - val_acc: 0.5670\n",
      "Epoch 17/50\n",
      "25709/25709 [==============================] - 36s 1ms/step - loss: 1.1822 - acc: 0.5474 - val_loss: 1.1220 - val_acc: 0.5720\n",
      "Epoch 18/50\n",
      "25709/25709 [==============================] - 36s 1ms/step - loss: 1.1613 - acc: 0.5544 - val_loss: 1.1260 - val_acc: 0.5707\n",
      "Epoch 19/50\n",
      "25709/25709 [==============================] - 36s 1ms/step - loss: 1.1518 - acc: 0.5621 - val_loss: 1.1006 - val_acc: 0.5790\n",
      "Epoch 20/50\n",
      "25709/25709 [==============================] - 36s 1ms/step - loss: 1.1476 - acc: 0.5666 - val_loss: 1.1854 - val_acc: 0.5647\n",
      "Epoch 21/50\n",
      "25709/25709 [==============================] - 36s 1ms/step - loss: 1.1279 - acc: 0.5718 - val_loss: 1.1521 - val_acc: 0.5593\n",
      "Epoch 22/50\n",
      "25709/25709 [==============================] - 37s 1ms/step - loss: 1.1157 - acc: 0.5763 - val_loss: 1.1310 - val_acc: 0.5620\n",
      "Epoch 23/50\n",
      "25709/25709 [==============================] - 36s 1ms/step - loss: 1.1069 - acc: 0.5791 - val_loss: 1.1035 - val_acc: 0.5747\n",
      "Epoch 24/50\n",
      "25709/25709 [==============================] - 36s 1ms/step - loss: 1.0981 - acc: 0.5836 - val_loss: 1.1092 - val_acc: 0.5743\n",
      "Epoch 25/50\n",
      "25709/25709 [==============================] - 36s 1ms/step - loss: 1.0845 - acc: 0.5896 - val_loss: 1.1352 - val_acc: 0.5660\n",
      "Epoch 26/50\n",
      "25709/25709 [==============================] - 36s 1ms/step - loss: 1.0786 - acc: 0.5915 - val_loss: 1.1063 - val_acc: 0.5820\n",
      "Epoch 27/50\n",
      "25709/25709 [==============================] - 36s 1ms/step - loss: 1.0668 - acc: 0.5979 - val_loss: 1.0936 - val_acc: 0.5800\n",
      "Epoch 28/50\n",
      "25709/25709 [==============================] - 36s 1ms/step - loss: 1.0547 - acc: 0.5993 - val_loss: 1.0825 - val_acc: 0.5927\n",
      "Epoch 29/50\n",
      "25709/25709 [==============================] - 36s 1ms/step - loss: 1.0441 - acc: 0.6048 - val_loss: 1.0734 - val_acc: 0.5883\n",
      "Epoch 30/50\n",
      "25709/25709 [==============================] - 37s 1ms/step - loss: 1.0355 - acc: 0.6091 - val_loss: 1.0840 - val_acc: 0.5897\n",
      "Epoch 31/50\n",
      "25709/25709 [==============================] - 37s 1ms/step - loss: 1.0283 - acc: 0.6147 - val_loss: 1.0970 - val_acc: 0.5910\n",
      "Epoch 32/50\n",
      "25709/25709 [==============================] - 36s 1ms/step - loss: 1.0225 - acc: 0.6130 - val_loss: 1.1062 - val_acc: 0.5853\n",
      "Epoch 33/50\n",
      "25709/25709 [==============================] - 36s 1ms/step - loss: 1.0120 - acc: 0.6209 - val_loss: 1.1006 - val_acc: 0.5800\n",
      "Epoch 34/50\n",
      "25709/25709 [==============================] - 36s 1ms/step - loss: 1.0041 - acc: 0.6229 - val_loss: 1.0905 - val_acc: 0.5793\n",
      "Epoch 35/50\n",
      "25709/25709 [==============================] - 36s 1ms/step - loss: 1.0014 - acc: 0.6240 - val_loss: 1.0808 - val_acc: 0.5943\n",
      "Epoch 36/50\n",
      "25709/25709 [==============================] - 36s 1ms/step - loss: 1.0031 - acc: 0.6204 - val_loss: 1.0799 - val_acc: 0.5923\n",
      "Epoch 37/50\n",
      "25709/25709 [==============================] - 36s 1ms/step - loss: 0.9785 - acc: 0.6317 - val_loss: 1.0630 - val_acc: 0.6027\n",
      "Epoch 38/50\n",
      "25709/25709 [==============================] - 36s 1ms/step - loss: 0.9698 - acc: 0.6358 - val_loss: 1.0878 - val_acc: 0.5880\n",
      "Epoch 39/50\n",
      "25709/25709 [==============================] - 37s 1ms/step - loss: 0.9638 - acc: 0.6364 - val_loss: 1.0686 - val_acc: 0.6007\n",
      "Epoch 40/50\n",
      "25709/25709 [==============================] - 36s 1ms/step - loss: 0.9568 - acc: 0.6423 - val_loss: 1.0773 - val_acc: 0.5980\n",
      "Epoch 41/50\n",
      "25709/25709 [==============================] - 36s 1ms/step - loss: 0.9493 - acc: 0.6451 - val_loss: 1.0707 - val_acc: 0.5957\n",
      "Epoch 42/50\n",
      "25709/25709 [==============================] - 36s 1ms/step - loss: 0.9455 - acc: 0.6444 - val_loss: 1.0679 - val_acc: 0.6000\n",
      "Epoch 43/50\n",
      "25709/25709 [==============================] - 36s 1ms/step - loss: 0.9430 - acc: 0.6436 - val_loss: 1.0800 - val_acc: 0.5880\n",
      "Epoch 44/50\n",
      "25709/25709 [==============================] - 36s 1ms/step - loss: 0.9339 - acc: 0.6467 - val_loss: 1.0582 - val_acc: 0.6007\n",
      "Epoch 45/50\n",
      "25709/25709 [==============================] - 36s 1ms/step - loss: 0.9204 - acc: 0.6557 - val_loss: 1.1005 - val_acc: 0.5973\n",
      "Epoch 46/50\n",
      "25709/25709 [==============================] - 36s 1ms/step - loss: 0.9222 - acc: 0.6536 - val_loss: 1.0773 - val_acc: 0.5987\n",
      "Epoch 47/50\n",
      "25709/25709 [==============================] - 36s 1ms/step - loss: 0.9229 - acc: 0.6525 - val_loss: 1.0661 - val_acc: 0.6113\n",
      "Epoch 48/50\n",
      "25709/25709 [==============================] - 37s 1ms/step - loss: 0.9204 - acc: 0.6537 - val_loss: 1.0569 - val_acc: 0.6057\n",
      "Epoch 49/50\n",
      "25709/25709 [==============================] - 36s 1ms/step - loss: 0.9056 - acc: 0.6630 - val_loss: 1.0773 - val_acc: 0.6050\n",
      "Epoch 50/50\n",
      "25709/25709 [==============================] - 36s 1ms/step - loss: 0.9053 - acc: 0.6615 - val_loss: 1.0775 - val_acc: 0.6037\n"
     ]
    }
   ],
   "source": [
    "batch_size = 64\n",
    "\n",
    "# initiate RMSprop optimizer\n",
    "opt = keras.optimizers.rmsprop(lr=0.0005, decay=1e-6)\n",
    "sgd = SGD(lr=0.05, decay=1e-6, momentum=0.9, nesterov=True)\n",
    "adam =Adam(lr=0.001, beta_1=0.9, beta_2=0.999, epsilon=1e-8)\n",
    "# Let's train the model using RMSprop\n",
    "model.compile(loss='categorical_crossentropy',\n",
    "              optimizer=adam,\n",
    "              metrics=['accuracy'])\n",
    "\n",
    "history = model.fit(X_train, y_train,\n",
    "              batch_size=batch_size,\n",
    "              epochs=50,\n",
    "              validation_data=(X_val, y_val),\n",
    "              shuffle=True)"
   ]
  },
  {
   "cell_type": "code",
   "execution_count": 11,
   "metadata": {},
   "outputs": [
    {
     "name": "stdout",
     "output_type": "stream",
     "text": [
      "Public Test loss: 1.143358925819397\n",
      "Public Test accuracy: 0.595\n",
      "Private Test loss: 1.1136872386932373\n",
      "Private Test accuracy: 0.571\n"
     ]
    }
   ],
   "source": [
    "score = model.evaluate(X_pub_test, y_pub_test, verbose=0)\n",
    "print('Public Test loss:', score[0])\n",
    "print('Public Test accuracy:', score[1])\n",
    "score = model.evaluate(X_pri_test, y_pri_test, verbose=0)\n",
    "print('Private Test loss:', score[0])\n",
    "print('Private Test accuracy:', score[1])"
   ]
  },
  {
   "cell_type": "code",
   "execution_count": 12,
   "metadata": {},
   "outputs": [
    {
     "data": {
      "image/png": "[encoded data removed]",
      "text/plain": [
       "<Figure size 864x432 with 2 Axes>"
      ]
     },
     "metadata": {
      "needs_background": "light"
     },
     "output_type": "display_data"
    }
   ],
   "source": [
    "def plot_loss_accuracy(history):\n",
    "    fig = plt.figure(figsize=(12, 6))\n",
    "    ax = fig.add_subplot(1, 2, 1)\n",
    "    ax.plot(history.history[\"loss\"],'r-x', label=\"Train Loss\")\n",
    "    ax.plot(history.history[\"val_loss\"],'b-x', label=\"Validation Loss\")\n",
    "    ax.legend()\n",
    "    ax.set_title('cross_entropy loss')\n",
    "    ax.grid(True)\n",
    "\n",
    "\n",
    "    ax = fig.add_subplot(1, 2, 2)\n",
    "    ax.plot(history.history[\"acc\"],'r-x', label=\"Train Accuracy\")\n",
    "    ax.plot(history.history[\"val_acc\"],'b-x', label=\"Validation Accuracy\")\n",
    "    ax.legend()\n",
    "    ax.set_title('accuracy')\n",
    "    ax.grid(True)\n",
    "    \n",
    "\n",
    "plot_loss_accuracy(history)"
   ]
  },
  {
   "cell_type": "code",
   "execution_count": 7,
   "metadata": {},
   "outputs": [
    {
     "name": "stdout",
     "output_type": "stream",
     "text": [
      "\"dot\" with args ['-Tpng', '/tmp/tmp58yzewlo'] returned code: 1\n",
      "\n",
      "stdout, stderr:\n",
      " b''\n",
      "b'Warning: Could not load \"/home/minhthong04111989/anaconda3/envs/myproj/lib/graphviz/libgvplugin_pango.so.6\" - file not found\\nWarning: Could not load \"/home/minhthong04111989/anaconda3/envs/myproj/lib/graphviz/libgvplugin_pango.so.6\" - file not found\\nFormat: \"png\" not recognized. Use one of: canon cmap cmapx cmapx_np dot dot_json eps fig gv imap imap_np ismap json json0 mp pdf pic plain plain-ext png pov ps ps2 svg svgz tk vml vmlz xdot xdot1.2 xdot1.4 xdot_json\\n'\n",
      "\n"
     ]
    },
    {
     "ename": "AssertionError",
     "evalue": "1",
     "output_type": "error",
     "traceback": [
      "\u001b[0;31m---------------------------------------------------------------------------\u001b[0m",
      "\u001b[0;31mAssertionError\u001b[0m                            Traceback (most recent call last)",
      "\u001b[0;32m<ipython-input-7-a70009143d02>\u001b[0m in \u001b[0;36m<module>\u001b[0;34m\u001b[0m\n\u001b[1;32m      1\u001b[0m \u001b[0;32mfrom\u001b[0m \u001b[0mkeras\u001b[0m\u001b[0;34m.\u001b[0m\u001b[0mutils\u001b[0m \u001b[0;32mimport\u001b[0m \u001b[0mplot_model\u001b[0m\u001b[0;34m\u001b[0m\u001b[0;34m\u001b[0m\u001b[0m\n\u001b[0;32m----> 2\u001b[0;31m \u001b[0mplot_model\u001b[0m\u001b[0;34m(\u001b[0m\u001b[0mmodel\u001b[0m\u001b[0;34m,\u001b[0m \u001b[0mto_file\u001b[0m\u001b[0;34m=\u001b[0m\u001b[0;34m'model.png'\u001b[0m\u001b[0;34m)\u001b[0m\u001b[0;34m\u001b[0m\u001b[0;34m\u001b[0m\u001b[0m\n\u001b[0m",
      "\u001b[0;32m~/anaconda3/envs/myproj/lib/python3.6/site-packages/keras/utils/vis_utils.py\u001b[0m in \u001b[0;36mplot_model\u001b[0;34m(model, to_file, show_shapes, show_layer_names, rankdir)\u001b[0m\n\u001b[1;32m    136\u001b[0m     \u001b[0;32melse\u001b[0m\u001b[0;34m:\u001b[0m\u001b[0;34m\u001b[0m\u001b[0;34m\u001b[0m\u001b[0m\n\u001b[1;32m    137\u001b[0m         \u001b[0mextension\u001b[0m \u001b[0;34m=\u001b[0m \u001b[0mextension\u001b[0m\u001b[0;34m[\u001b[0m\u001b[0;36m1\u001b[0m\u001b[0;34m:\u001b[0m\u001b[0;34m]\u001b[0m\u001b[0;34m\u001b[0m\u001b[0;34m\u001b[0m\u001b[0m\n\u001b[0;32m--> 138\u001b[0;31m     \u001b[0mdot\u001b[0m\u001b[0;34m.\u001b[0m\u001b[0mwrite\u001b[0m\u001b[0;34m(\u001b[0m\u001b[0mto_file\u001b[0m\u001b[0;34m,\u001b[0m \u001b[0mformat\u001b[0m\u001b[0;34m=\u001b[0m\u001b[0mextension\u001b[0m\u001b[0;34m)\u001b[0m\u001b[0;34m\u001b[0m\u001b[0;34m\u001b[0m\u001b[0m\n\u001b[0m",
      "\u001b[0;32m~/anaconda3/envs/myproj/lib/python3.6/site-packages/pydot.py\u001b[0m in \u001b[0;36mwrite\u001b[0;34m(self, path, prog, format, encoding)\u001b[0m\n\u001b[1;32m   1815\u001b[0m                 \u001b[0mf\u001b[0m\u001b[0;34m.\u001b[0m\u001b[0mwrite\u001b[0m\u001b[0;34m(\u001b[0m\u001b[0ms\u001b[0m\u001b[0;34m)\u001b[0m\u001b[0;34m\u001b[0m\u001b[0;34m\u001b[0m\u001b[0m\n\u001b[1;32m   1816\u001b[0m         \u001b[0;32melse\u001b[0m\u001b[0;34m:\u001b[0m\u001b[0;34m\u001b[0m\u001b[0;34m\u001b[0m\u001b[0m\n\u001b[0;32m-> 1817\u001b[0;31m             \u001b[0ms\u001b[0m \u001b[0;34m=\u001b[0m \u001b[0mself\u001b[0m\u001b[0;34m.\u001b[0m\u001b[0mcreate\u001b[0m\u001b[0;34m(\u001b[0m\u001b[0mprog\u001b[0m\u001b[0;34m,\u001b[0m \u001b[0mformat\u001b[0m\u001b[0;34m,\u001b[0m \u001b[0mencoding\u001b[0m\u001b[0;34m=\u001b[0m\u001b[0mencoding\u001b[0m\u001b[0;34m)\u001b[0m\u001b[0;34m\u001b[0m\u001b[0;34m\u001b[0m\u001b[0m\n\u001b[0m\u001b[1;32m   1818\u001b[0m             \u001b[0;32mwith\u001b[0m \u001b[0mio\u001b[0m\u001b[0;34m.\u001b[0m\u001b[0mopen\u001b[0m\u001b[0;34m(\u001b[0m\u001b[0mpath\u001b[0m\u001b[0;34m,\u001b[0m \u001b[0mmode\u001b[0m\u001b[0;34m=\u001b[0m\u001b[0;34m'wb'\u001b[0m\u001b[0;34m)\u001b[0m \u001b[0;32mas\u001b[0m \u001b[0mf\u001b[0m\u001b[0;34m:\u001b[0m\u001b[0;34m\u001b[0m\u001b[0;34m\u001b[0m\u001b[0m\n\u001b[1;32m   1819\u001b[0m                 \u001b[0mf\u001b[0m\u001b[0;34m.\u001b[0m\u001b[0mwrite\u001b[0m\u001b[0;34m(\u001b[0m\u001b[0ms\u001b[0m\u001b[0;34m)\u001b[0m\u001b[0;34m\u001b[0m\u001b[0;34m\u001b[0m\u001b[0m\n",
      "\u001b[0;32m~/anaconda3/envs/myproj/lib/python3.6/site-packages/pydot.py\u001b[0m in \u001b[0;36mcreate\u001b[0;34m(self, prog, format, encoding)\u001b[0m\n\u001b[1;32m   1943\u001b[0m             \u001b[0mprint\u001b[0m\u001b[0;34m(\u001b[0m\u001b[0mmessage\u001b[0m\u001b[0;34m)\u001b[0m\u001b[0;34m\u001b[0m\u001b[0;34m\u001b[0m\u001b[0m\n\u001b[1;32m   1944\u001b[0m \u001b[0;34m\u001b[0m\u001b[0m\n\u001b[0;32m-> 1945\u001b[0;31m         \u001b[0;32massert\u001b[0m \u001b[0mprocess\u001b[0m\u001b[0;34m.\u001b[0m\u001b[0mreturncode\u001b[0m \u001b[0;34m==\u001b[0m \u001b[0;36m0\u001b[0m\u001b[0;34m,\u001b[0m \u001b[0mprocess\u001b[0m\u001b[0;34m.\u001b[0m\u001b[0mreturncode\u001b[0m\u001b[0;34m\u001b[0m\u001b[0;34m\u001b[0m\u001b[0m\n\u001b[0m\u001b[1;32m   1946\u001b[0m \u001b[0;34m\u001b[0m\u001b[0m\n\u001b[1;32m   1947\u001b[0m         \u001b[0;32mreturn\u001b[0m \u001b[0mstdout_data\u001b[0m\u001b[0;34m\u001b[0m\u001b[0;34m\u001b[0m\u001b[0m\n",
      "\u001b[0;31mAssertionError\u001b[0m: 1"
     ]
    }
   ],
   "source": [
    "from keras.utils import plot_model\n",
    "plot_model(model, to_file='model.png')"
   ]
  },
  {
   "cell_type": "code",
   "execution_count": 9,
   "metadata": {},
   "outputs": [
    {
     "name": "stdout",
     "output_type": "stream",
     "text": [
      "\"dot\" with args ['-Tpng', '/tmp/tmpty0hkodb'] returned code: 1\n",
      "\n",
      "stdout, stderr:\n",
      " b''\n",
      "b'Warning: Could not load \"/home/minhthong04111989/anaconda3/envs/myproj/lib/graphviz/libgvplugin_pango.so.6\" - file not found\\nWarning: Could not load \"/home/minhthong04111989/anaconda3/envs/myproj/lib/graphviz/libgvplugin_pango.so.6\" - file not found\\nFormat: \"png\" not recognized. Use one of: canon cmap cmapx cmapx_np dot dot_json eps fig gv imap imap_np ismap json json0 mp pdf pic plain plain-ext png pov ps ps2 svg svgz tk vml vmlz xdot xdot1.2 xdot1.4 xdot_json\\n'\n",
      "\n"
     ]
    },
    {
     "ename": "AssertionError",
     "evalue": "1",
     "output_type": "error",
     "traceback": [
      "\u001b[0;31m---------------------------------------------------------------------------\u001b[0m",
      "\u001b[0;31mAssertionError\u001b[0m                            Traceback (most recent call last)",
      "\u001b[0;32m<ipython-input-9-059c8d267e28>\u001b[0m in \u001b[0;36m<module>\u001b[0;34m\u001b[0m\n\u001b[1;32m      3\u001b[0m \u001b[0mSVG\u001b[0m\u001b[0;34m(\u001b[0m\u001b[0mmodel_to_dot\u001b[0m\u001b[0;34m(\u001b[0m\u001b[0mmodel\u001b[0m\u001b[0;34m)\u001b[0m\u001b[0;34m.\u001b[0m\u001b[0mcreate\u001b[0m\u001b[0;34m(\u001b[0m\u001b[0mprog\u001b[0m\u001b[0;34m=\u001b[0m\u001b[0;34m'dot'\u001b[0m\u001b[0;34m,\u001b[0m \u001b[0mformat\u001b[0m\u001b[0;34m=\u001b[0m\u001b[0;34m'svg'\u001b[0m\u001b[0;34m)\u001b[0m\u001b[0;34m)\u001b[0m\u001b[0;34m\u001b[0m\u001b[0;34m\u001b[0m\u001b[0m\n\u001b[1;32m      4\u001b[0m \u001b[0;32mfrom\u001b[0m \u001b[0mkeras\u001b[0m\u001b[0;34m.\u001b[0m\u001b[0mutils\u001b[0m \u001b[0;32mimport\u001b[0m \u001b[0mplot_model\u001b[0m\u001b[0;34m\u001b[0m\u001b[0;34m\u001b[0m\u001b[0m\n\u001b[0;32m----> 5\u001b[0;31m \u001b[0mplot_model\u001b[0m\u001b[0;34m(\u001b[0m\u001b[0mmodel\u001b[0m\u001b[0;34m,\u001b[0m \u001b[0mto_file\u001b[0m\u001b[0;34m=\u001b[0m\u001b[0;34m'model.png'\u001b[0m\u001b[0;34m)\u001b[0m\u001b[0;34m\u001b[0m\u001b[0;34m\u001b[0m\u001b[0m\n\u001b[0m",
      "\u001b[0;32m~/anaconda3/envs/myproj/lib/python3.6/site-packages/keras/utils/vis_utils.py\u001b[0m in \u001b[0;36mplot_model\u001b[0;34m(model, to_file, show_shapes, show_layer_names, rankdir)\u001b[0m\n\u001b[1;32m    136\u001b[0m     \u001b[0;32melse\u001b[0m\u001b[0;34m:\u001b[0m\u001b[0;34m\u001b[0m\u001b[0;34m\u001b[0m\u001b[0m\n\u001b[1;32m    137\u001b[0m         \u001b[0mextension\u001b[0m \u001b[0;34m=\u001b[0m \u001b[0mextension\u001b[0m\u001b[0;34m[\u001b[0m\u001b[0;36m1\u001b[0m\u001b[0;34m:\u001b[0m\u001b[0;34m]\u001b[0m\u001b[0;34m\u001b[0m\u001b[0;34m\u001b[0m\u001b[0m\n\u001b[0;32m--> 138\u001b[0;31m     \u001b[0mdot\u001b[0m\u001b[0;34m.\u001b[0m\u001b[0mwrite\u001b[0m\u001b[0;34m(\u001b[0m\u001b[0mto_file\u001b[0m\u001b[0;34m,\u001b[0m \u001b[0mformat\u001b[0m\u001b[0;34m=\u001b[0m\u001b[0mextension\u001b[0m\u001b[0;34m)\u001b[0m\u001b[0;34m\u001b[0m\u001b[0;34m\u001b[0m\u001b[0m\n\u001b[0m",
      "\u001b[0;32m~/anaconda3/envs/myproj/lib/python3.6/site-packages/pydot.py\u001b[0m in \u001b[0;36mwrite\u001b[0;34m(self, path, prog, format, encoding)\u001b[0m\n\u001b[1;32m   1815\u001b[0m                 \u001b[0mf\u001b[0m\u001b[0;34m.\u001b[0m\u001b[0mwrite\u001b[0m\u001b[0;34m(\u001b[0m\u001b[0ms\u001b[0m\u001b[0;34m)\u001b[0m\u001b[0;34m\u001b[0m\u001b[0;34m\u001b[0m\u001b[0m\n\u001b[1;32m   1816\u001b[0m         \u001b[0;32melse\u001b[0m\u001b[0;34m:\u001b[0m\u001b[0;34m\u001b[0m\u001b[0;34m\u001b[0m\u001b[0m\n\u001b[0;32m-> 1817\u001b[0;31m             \u001b[0ms\u001b[0m \u001b[0;34m=\u001b[0m \u001b[0mself\u001b[0m\u001b[0;34m.\u001b[0m\u001b[0mcreate\u001b[0m\u001b[0;34m(\u001b[0m\u001b[0mprog\u001b[0m\u001b[0;34m,\u001b[0m \u001b[0mformat\u001b[0m\u001b[0;34m,\u001b[0m \u001b[0mencoding\u001b[0m\u001b[0;34m=\u001b[0m\u001b[0mencoding\u001b[0m\u001b[0;34m)\u001b[0m\u001b[0;34m\u001b[0m\u001b[0;34m\u001b[0m\u001b[0m\n\u001b[0m\u001b[1;32m   1818\u001b[0m             \u001b[0;32mwith\u001b[0m \u001b[0mio\u001b[0m\u001b[0;34m.\u001b[0m\u001b[0mopen\u001b[0m\u001b[0;34m(\u001b[0m\u001b[0mpath\u001b[0m\u001b[0;34m,\u001b[0m \u001b[0mmode\u001b[0m\u001b[0;34m=\u001b[0m\u001b[0;34m'wb'\u001b[0m\u001b[0;34m)\u001b[0m \u001b[0;32mas\u001b[0m \u001b[0mf\u001b[0m\u001b[0;34m:\u001b[0m\u001b[0;34m\u001b[0m\u001b[0;34m\u001b[0m\u001b[0m\n\u001b[1;32m   1819\u001b[0m                 \u001b[0mf\u001b[0m\u001b[0;34m.\u001b[0m\u001b[0mwrite\u001b[0m\u001b[0;34m(\u001b[0m\u001b[0ms\u001b[0m\u001b[0;34m)\u001b[0m\u001b[0;34m\u001b[0m\u001b[0;34m\u001b[0m\u001b[0m\n",
      "\u001b[0;32m~/anaconda3/envs/myproj/lib/python3.6/site-packages/pydot.py\u001b[0m in \u001b[0;36mcreate\u001b[0;34m(self, prog, format, encoding)\u001b[0m\n\u001b[1;32m   1943\u001b[0m             \u001b[0mprint\u001b[0m\u001b[0;34m(\u001b[0m\u001b[0mmessage\u001b[0m\u001b[0;34m)\u001b[0m\u001b[0;34m\u001b[0m\u001b[0;34m\u001b[0m\u001b[0m\n\u001b[1;32m   1944\u001b[0m \u001b[0;34m\u001b[0m\u001b[0m\n\u001b[0;32m-> 1945\u001b[0;31m         \u001b[0;32massert\u001b[0m \u001b[0mprocess\u001b[0m\u001b[0;34m.\u001b[0m\u001b[0mreturncode\u001b[0m \u001b[0;34m==\u001b[0m \u001b[0;36m0\u001b[0m\u001b[0;34m,\u001b[0m \u001b[0mprocess\u001b[0m\u001b[0;34m.\u001b[0m\u001b[0mreturncode\u001b[0m\u001b[0;34m\u001b[0m\u001b[0;34m\u001b[0m\u001b[0m\n\u001b[0m\u001b[1;32m   1946\u001b[0m \u001b[0;34m\u001b[0m\u001b[0m\n\u001b[1;32m   1947\u001b[0m         \u001b[0;32mreturn\u001b[0m \u001b[0mstdout_data\u001b[0m\u001b[0;34m\u001b[0m\u001b[0;34m\u001b[0m\u001b[0m\n",
      "\u001b[0;31mAssertionError\u001b[0m: 1"
     ]
    }
   ],
   "source": [
    "from IPython.display import SVG\n",
    "from keras.utils.vis_utils import model_to_dot\n",
    "SVG(model_to_dot(model).create(prog='dot', format='svg'))"
   ]
  },
  {
   "cell_type": "code",
   "execution_count": null,
   "metadata": {},
   "outputs": [],
   "source": []
  }
 ],
 "metadata": {
  "kernelspec": {
   "display_name": "Python 3",
   "language": "python",
   "name": "python3"
  },
  "language_info": {
   "codemirror_mode": {
    "name": "ipython",
    "version": 3
   },
   "file_extension": ".py",
   "mimetype": "text/x-python",
   "name": "python",
   "nbconvert_exporter": "python",
   "pygments_lexer": "ipython3",
   "version": "3.6.8"
  }
 },
 "nbformat": 4,
 "nbformat_minor": 2
}
