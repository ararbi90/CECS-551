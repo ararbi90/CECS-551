{
 "cells": [
  {
   "cell_type": "code",
   "execution_count": 42,
   "metadata": {},
   "outputs": [],
   "source": [
    "from __future__ import print_function\n",
    "import keras\n",
    "from keras.datasets import cifar10\n",
    "from keras.preprocessing.image import ImageDataGenerator\n",
    "from keras.models import Sequential\n",
    "from keras.layers import Dense, Dropout, Activation, Flatten\n",
    "from keras.layers import Conv2D, MaxPooling2D, Conv1D, MaxPooling1D\n",
    "\n",
    "import matplotlib.pyplot as plt\n",
    "import numpy as np\n",
    "%matplotlib inline"
   ]
  },
  {
   "cell_type": "code",
   "execution_count": 43,
   "metadata": {},
   "outputs": [
    {
     "name": "stdout",
     "output_type": "stream",
     "text": [
      "Clear previously loaded data.\n",
      "Train data shape:  (25709, 48, 48)\n",
      "Train labels shape:  (25709,)\n",
      "Validation data shape:  (3000, 48, 48)\n",
      "Validation labels shape:  (3000,)\n",
      "Public test data shape:  (1000, 48, 48)\n",
      "Public test labels shape:  (1000,)\n",
      "Private test data shape:  (1000, 48, 48)\n",
      "Private test labels shape:  (1000,)\n"
     ]
    }
   ],
   "source": [
    "from utils import load_data\n",
    "\n",
    "def get_data(num_training=25709, num_validation=3000, num_pub_test=1000, num_pri_test=1000):\n",
    "    \"\"\"\n",
    "    Load the dataset from disk and perform preprocessing to prepare\n",
    "    it for the two-layer neural net classifier. These are the same steps as\n",
    "    we used for the SVM, but condensed to a single function.  \n",
    "    \"\"\"\n",
    "    X_train, y_train, X_pub_test, y_pub_test, X_pri_test, y_pri_test = load_data()\n",
    "    # Subsample the data\n",
    "    mask = list(range(num_training, num_training + num_validation))\n",
    "    X_val = X_train[mask]\n",
    "    y_val = y_train[mask]\n",
    "    mask = list(range(num_training))\n",
    "    X_train = X_train[mask]\n",
    "    y_train = y_train[mask]\n",
    "    mask = list(range(num_pub_test))\n",
    "    X_pub_test = X_pub_test[mask]\n",
    "    y_pub_test = y_pub_test[mask]\n",
    "    mask = list(range(num_pri_test))\n",
    "    X_pri_test = X_pri_test[mask]\n",
    "    y_pri_test = y_pri_test[mask]\n",
    "\n",
    "#     # Normalize the data: subtract the mean image\n",
    "    mean_image = np.mean(X_train, axis=0)\n",
    "    X_train -= mean_image\n",
    "    X_val -= mean_image\n",
    "    X_pub_test -= mean_image\n",
    "    X_pri_test -= mean_image  \n",
    "    return X_train, y_train, X_val, y_val, X_pub_test, y_pub_test, X_pri_test, y_pri_test\n",
    "    #return X_train, y_train, X_pub_test, y_pub_test, X_pri_test, y_pri_test\n",
    "\n",
    "# Cleaning up variables to prevent loading data multiple times (which may cause memory issue)\n",
    "try:\n",
    "   del X_train, y_train\n",
    "   del X_pub_test, y_pub_test\n",
    "   del X_pri_test, y_pri_test\n",
    "   print('Clear previously loaded data.')\n",
    "except:\n",
    "   pass\n",
    "\n",
    "# Invoke the above function to get our data.\n",
    "X_train, y_train, X_val, y_val, X_pub_test, y_pub_test, X_pri_test, y_pri_test = get_data()\n",
    "#X_train, y_train, X_pub_test, y_pub_test, X_pri_test, y_pri_test = get_data()\n",
    "\n",
    "print('Train data shape: ', X_train.shape)\n",
    "print('Train labels shape: ', y_train.shape)\n",
    "print('Validation data shape: ', X_val.shape)\n",
    "print('Validation labels shape: ', y_val.shape)\n",
    "print('Public test data shape: ', X_pub_test.shape)\n",
    "print('Public test labels shape: ', y_pub_test.shape)\n",
    "print('Private test data shape: ', X_pri_test.shape)\n",
    "print('Private test labels shape: ', y_pri_test.shape)"
   ]
  },
  {
   "cell_type": "code",
   "execution_count": 44,
   "metadata": {},
   "outputs": [
    {
     "data": {
      "text/plain": [
       "(48, 48)"
      ]
     },
     "execution_count": 44,
     "metadata": {},
     "output_type": "execute_result"
    }
   ],
   "source": [
    "X_train[444].shape\n"
   ]
  },
  {
   "cell_type": "code",
   "execution_count": 45,
   "metadata": {},
   "outputs": [
    {
     "name": "stdout",
     "output_type": "stream",
     "text": [
      "3\n"
     ]
    },
    {
     "data": {
      "image/png": "[encoded data removed]",
      "text/plain": [
       "<Figure size 432x288 with 1 Axes>"
      ]
     },
     "metadata": {
      "needs_background": "light"
     },
     "output_type": "display_data"
    }
   ],
   "source": [
    "print(y_train[444])\n",
    "plt.imshow(X_train[444]);"
   ]
  },
  {
   "cell_type": "code",
   "execution_count": null,
   "metadata": {},
   "outputs": [],
   "source": [
    "num_classes = 7\n",
    "\n",
    "y_train = keras.utils.to_categorical(y_train, num_classes)\n",
    "y_val = keras.utils.to_categorical(y_val, num_classes)\n",
    "y_pub_test = keras.utils.to_categorical(y_pub_test, num_classes)\n",
    "y_pri_test = keras.utils.to_categorical(y_pri_test, num_classes)"
   ]
  },
  {
   "cell_type": "code",
   "execution_count": null,
   "metadata": {},
   "outputs": [
    {
     "data": {
      "text/plain": [
       "array([0., 0., 0., 1., 0., 0., 0.], dtype=float32)"
      ]
     },
     "execution_count": 47,
     "metadata": {},
     "output_type": "execute_result"
    }
   ],
   "source": [
    "y_train[444]"
   ]
  },
  {
   "cell_type": "code",
   "execution_count": null,
   "metadata": {},
   "outputs": [],
   "source": [
    "# As before, let's make everything float and scale\n",
    "X_train = X_train.astype('float32')\n",
    "X_val = X_val.astype('float32')\n",
    "X_pub_test = X_pub_test.astype('float32')\n",
    "X_pri_test = X_pri_test.astype('float32')\n",
    "\n",
    "X_train /= 255\n",
    "X_val /= 255\n",
    "X_pub_test /= 255\n",
    "X_pri_test /= 255"
   ]
  },
  {
   "cell_type": "code",
   "execution_count": null,
   "metadata": {},
   "outputs": [
    {
     "name": "stdout",
     "output_type": "stream",
     "text": [
      "_________________________________________________________________\n",
      "Layer (type)                 Output Shape              Param #   \n",
      "=================================================================\n",
      "conv1d_21 (Conv1D)           (None, 48, 64)            9280      \n",
      "_________________________________________________________________\n",
      "activation_37 (Activation)   (None, 48, 64)            0         \n",
      "_________________________________________________________________\n",
      "conv1d_22 (Conv1D)           (None, 48, 64)            12352     \n",
      "_________________________________________________________________\n",
      "activation_38 (Activation)   (None, 48, 64)            0         \n",
      "_________________________________________________________________\n",
      "max_pooling1d_9 (MaxPooling1 (None, 24, 64)            0         \n",
      "_________________________________________________________________\n",
      "conv1d_23 (Conv1D)           (None, 24, 128)           24704     \n",
      "_________________________________________________________________\n",
      "activation_39 (Activation)   (None, 24, 128)           0         \n",
      "_________________________________________________________________\n",
      "conv1d_24 (Conv1D)           (None, 24, 128)           49280     \n",
      "_________________________________________________________________\n",
      "activation_40 (Activation)   (None, 24, 128)           0         \n",
      "_________________________________________________________________\n",
      "conv1d_25 (Conv1D)           (None, 24, 128)           49280     \n",
      "_________________________________________________________________\n",
      "activation_41 (Activation)   (None, 24, 128)           0         \n",
      "_________________________________________________________________\n",
      "max_pooling1d_10 (MaxPooling (None, 12, 128)           0         \n",
      "_________________________________________________________________\n",
      "flatten_5 (Flatten)          (None, 1536)              0         \n",
      "_________________________________________________________________\n",
      "dense_17 (Dense)             (None, 4096)              6295552   \n",
      "_________________________________________________________________\n",
      "activation_42 (Activation)   (None, 4096)              0         \n",
      "_________________________________________________________________\n",
      "dropout_9 (Dropout)          (None, 4096)              0         \n",
      "_________________________________________________________________\n",
      "dense_18 (Dense)             (None, 4096)              16781312  \n",
      "_________________________________________________________________\n",
      "activation_43 (Activation)   (None, 4096)              0         \n",
      "_________________________________________________________________\n",
      "dropout_10 (Dropout)         (None, 4096)              0         \n",
      "_________________________________________________________________\n",
      "dense_19 (Dense)             (None, 1000)              4097000   \n",
      "_________________________________________________________________\n",
      "activation_44 (Activation)   (None, 1000)              0         \n",
      "_________________________________________________________________\n",
      "dropout_11 (Dropout)         (None, 1000)              0         \n",
      "_________________________________________________________________\n",
      "dense_20 (Dense)             (None, 7)                 7007      \n",
      "_________________________________________________________________\n",
      "activation_45 (Activation)   (None, 7)                 0         \n",
      "=================================================================\n",
      "Total params: 27,325,767\n",
      "Trainable params: 27,325,767\n",
      "Non-trainable params: 0\n",
      "_________________________________________________________________\n"
     ]
    },
    {
     "data": {
      "text/plain": [
       "(48, 48)"
      ]
     },
     "execution_count": 49,
     "metadata": {},
     "output_type": "execute_result"
    }
   ],
   "source": [
    "#VGG MODEL\n",
    "# Create model_2 as mentioned in the exercise\n",
    "# Let's build a CNN using Keras' Sequential capabilities\n",
    "from keras.layers.normalization import BatchNormalization\n",
    "model = Sequential()\n",
    "\n",
    "# 1st Convolutional Layer\n",
    "model.add(Conv1D(filters=64, input_shape=X_train.shape[1:], kernel_size=3, strides=1, padding='same'))\n",
    "model.add(Activation('relu'))\n",
    "\n",
    "# 2nd Convolutional Layer\n",
    "model.add(Conv1D(filters=64, input_shape=X_train.shape[1:], kernel_size=3, strides=1, padding='same'))\n",
    "model.add(Activation('relu'))\n",
    "\n",
    "# Max Pooling\n",
    "model.add(MaxPooling1D(pool_size=2, strides=2, padding='same'))\n",
    "\n",
    "# 3rd Convolutional Layer\n",
    "model.add(Conv1D(filters=128, kernel_size=3, strides=1, padding='same'))\n",
    "model.add(Activation('relu'))\n",
    "\n",
    "# 4th Convolutional Layer\n",
    "model.add(Conv1D(filters=128, kernel_size=3, strides=1, padding='same'))\n",
    "model.add(Activation('relu'))\n",
    "\n",
    "# 5th Convolutional Layer\n",
    "model.add(Conv1D(filters=128, kernel_size=3, strides=1, padding='same'))\n",
    "model.add(Activation('relu'))\n",
    "\n",
    "# Max Pooling\n",
    "model.add(MaxPooling1D(pool_size=2, strides=2, padding='same'))\n",
    "\n",
    "# Passing it to a Fully Connected layer\n",
    "model.add(Flatten())\n",
    "# 1st Fully Connected Layer\n",
    "model.add(Dense(4096, input_shape=X_train.shape[1:]))\n",
    "model.add(Activation('relu'))\n",
    "# Add Dropout to prevent overfitting\n",
    "model.add(Dropout(0.4))\n",
    "\n",
    "# 2nd Fully Connected Layer\n",
    "model.add(Dense(4096))\n",
    "model.add(Activation('relu'))\n",
    "# Add Dropout\n",
    "model.add(Dropout(0.4))\n",
    "\n",
    "# 3rd Fully Connected Layer\n",
    "model.add(Dense(1000))\n",
    "model.add(Activation('relu'))\n",
    "# Add Dropout\n",
    "model.add(Dropout(0.4))\n",
    "\n",
    "# Output Layer\n",
    "model.add(Dense(7))\n",
    "model.add(Activation('softmax'))\n",
    "\n",
    "\n",
    "model.summary()\n",
    "X_train.shape[1:]"
   ]
  },
  {
   "cell_type": "code",
   "execution_count": null,
   "metadata": {},
   "outputs": [
    {
     "name": "stdout",
     "output_type": "stream",
     "text": [
      "Train on 25709 samples, validate on 3000 samples\n",
      "Epoch 1/40\n",
      "25709/25709 [==============================] - 57s 2ms/step - loss: 1.7605 - acc: 0.2798 - val_loss: 1.6807 - val_acc: 0.3370\n",
      "Epoch 2/40\n",
      "25709/25709 [==============================] - 55s 2ms/step - loss: 1.6618 - acc: 0.3464 - val_loss: 1.6340 - val_acc: 0.3583\n",
      "Epoch 3/40\n",
      "25709/25709 [==============================] - 55s 2ms/step - loss: 1.6058 - acc: 0.3731 - val_loss: 1.5699 - val_acc: 0.3843\n",
      "Epoch 4/40\n",
      "25709/25709 [==============================] - 55s 2ms/step - loss: 1.5564 - acc: 0.3960 - val_loss: 1.5424 - val_acc: 0.3980\n",
      "Epoch 5/40\n",
      "25709/25709 [==============================] - 55s 2ms/step - loss: 1.5119 - acc: 0.4165 - val_loss: 1.5255 - val_acc: 0.4087\n",
      "Epoch 6/40\n",
      "25709/25709 [==============================] - 54s 2ms/step - loss: 1.4678 - acc: 0.4380 - val_loss: 1.5285 - val_acc: 0.4133\n",
      "Epoch 7/40\n",
      "25709/25709 [==============================] - 54s 2ms/step - loss: 1.4190 - acc: 0.4581 - val_loss: 1.4830 - val_acc: 0.4343\n",
      "Epoch 8/40\n",
      "25709/25709 [==============================] - 55s 2ms/step - loss: 1.3649 - acc: 0.4818 - val_loss: 1.4757 - val_acc: 0.4337\n",
      "Epoch 9/40\n",
      "25709/25709 [==============================] - 55s 2ms/step - loss: 1.3050 - acc: 0.5066 - val_loss: 1.4755 - val_acc: 0.4350\n",
      "Epoch 10/40\n",
      "25709/25709 [==============================] - 54s 2ms/step - loss: 1.2438 - acc: 0.5329 - val_loss: 1.4832 - val_acc: 0.4343\n",
      "Epoch 11/40\n",
      "25709/25709 [==============================] - 55s 2ms/step - loss: 1.1715 - acc: 0.5626 - val_loss: 1.4750 - val_acc: 0.4527\n",
      "Epoch 12/40\n",
      "25709/25709 [==============================] - 54s 2ms/step - loss: 1.0921 - acc: 0.5984 - val_loss: 1.5189 - val_acc: 0.4380\n",
      "Epoch 13/40\n",
      "25709/25709 [==============================] - 54s 2ms/step - loss: 1.0126 - acc: 0.6311 - val_loss: 1.5539 - val_acc: 0.4403\n",
      "Epoch 14/40\n",
      "25709/25709 [==============================] - 54s 2ms/step - loss: 0.9281 - acc: 0.6628 - val_loss: 1.5794 - val_acc: 0.4487\n",
      "Epoch 15/40\n",
      "25709/25709 [==============================] - 55s 2ms/step - loss: 0.8410 - acc: 0.6984 - val_loss: 1.6009 - val_acc: 0.4527\n",
      "Epoch 16/40\n",
      "25709/25709 [==============================] - 55s 2ms/step - loss: 0.7530 - acc: 0.7290 - val_loss: 1.6962 - val_acc: 0.4647\n",
      "Epoch 17/40\n",
      "25709/25709 [==============================] - 54s 2ms/step - loss: 0.6696 - acc: 0.7640 - val_loss: 1.7530 - val_acc: 0.4423\n",
      "Epoch 18/40\n",
      "25709/25709 [==============================] - 54s 2ms/step - loss: 0.5902 - acc: 0.7940 - val_loss: 1.8608 - val_acc: 0.4437\n",
      "Epoch 19/40\n",
      "25709/25709 [==============================] - 54s 2ms/step - loss: 0.5106 - acc: 0.8238 - val_loss: 1.9772 - val_acc: 0.4530\n",
      "Epoch 20/40\n",
      "25709/25709 [==============================] - 54s 2ms/step - loss: 0.4444 - acc: 0.8471 - val_loss: 2.0605 - val_acc: 0.4463\n",
      "Epoch 21/40\n",
      "25709/25709 [==============================] - 55s 2ms/step - loss: 0.3815 - acc: 0.8685 - val_loss: 2.2442 - val_acc: 0.4537\n",
      "Epoch 22/40\n",
      "25709/25709 [==============================] - 55s 2ms/step - loss: 0.3298 - acc: 0.8885 - val_loss: 2.4159 - val_acc: 0.4547\n",
      "Epoch 23/40\n",
      "25709/25709 [==============================] - 55s 2ms/step - loss: 0.2854 - acc: 0.9042 - val_loss: 2.3824 - val_acc: 0.4637\n",
      "Epoch 24/40\n",
      "25709/25709 [==============================] - 55s 2ms/step - loss: 0.2497 - acc: 0.9157 - val_loss: 2.5236 - val_acc: 0.4497\n",
      "Epoch 25/40\n",
      "25709/25709 [==============================] - 55s 2ms/step - loss: 0.2169 - acc: 0.9281 - val_loss: 2.6936 - val_acc: 0.4610\n",
      "Epoch 26/40\n",
      "25709/25709 [==============================] - 54s 2ms/step - loss: 0.1943 - acc: 0.9343 - val_loss: 2.7232 - val_acc: 0.4487\n",
      "Epoch 27/40\n",
      "25709/25709 [==============================] - 55s 2ms/step - loss: 0.1778 - acc: 0.9412 - val_loss: 2.7397 - val_acc: 0.4557\n",
      "Epoch 28/40\n",
      "11008/25709 [===========>..................] - ETA: 30s - loss: 0.1558 - acc: 0.9489"
     ]
    }
   ],
   "source": [
    "batch_size = 64\n",
    "\n",
    "# initiate RMSprop optimizer\n",
    "opt = keras.optimizers.rmsprop(lr=0.00005, decay=1e-6)\n",
    "\n",
    "# Let's train the model using RMSprop\n",
    "model.compile(loss='categorical_crossentropy',\n",
    "              optimizer=opt,\n",
    "              metrics=['accuracy'])\n",
    "\n",
    "history = model.fit(X_train, y_train,\n",
    "              batch_size=batch_size,\n",
    "              epochs=40,\n",
    "              validation_data=(X_val, y_val),\n",
    "              shuffle=True)"
   ]
  },
  {
   "cell_type": "code",
   "execution_count": null,
   "metadata": {},
   "outputs": [],
   "source": [
    "score = model.evaluate(X_pub_test, y_pub_test, verbose=0)\n",
    "print('Public Test loss:', score[0])\n",
    "print('Public Test accuracy:', score[1])\n",
    "score = model.evaluate(X_pri_test, y_pri_test, verbose=0)\n",
    "print('Private Test loss:', score[0])\n",
    "print('Private Test accuracy:', score[1])"
   ]
  },
  {
   "cell_type": "code",
   "execution_count": null,
   "metadata": {},
   "outputs": [],
   "source": [
    "def plot_loss_accuracy(history):\n",
    "    fig = plt.figure(figsize=(12, 6))\n",
    "    ax = fig.add_subplot(1, 2, 1)\n",
    "    ax.plot(history.history[\"loss\"],'r-x', label=\"Train Loss\")\n",
    "    ax.plot(history.history[\"val_loss\"],'b-x', label=\"Validation Loss\")\n",
    "    ax.legend()\n",
    "    ax.set_title('cross_entropy loss')\n",
    "    ax.grid(True)\n",
    "\n",
    "\n",
    "    ax = fig.add_subplot(1, 2, 2)\n",
    "    ax.plot(history.history[\"acc\"],'r-x', label=\"Train Accuracy\")\n",
    "    ax.plot(history.history[\"val_acc\"],'b-x', label=\"Validation Accuracy\")\n",
    "    ax.legend()\n",
    "    ax.set_title('accuracy')\n",
    "    ax.grid(True)\n",
    "    \n",
    "\n",
    "plot_loss_accuracy(history)"
   ]
  },
  {
   "cell_type": "code",
   "execution_count": null,
   "metadata": {},
   "outputs": [],
   "source": []
  }
 ],
 "metadata": {
  "kernelspec": {
   "display_name": "Python 3",
   "language": "python",
   "name": "python3"
  },
  "language_info": {
   "codemirror_mode": {
    "name": "ipython",
    "version": 3
   },
   "file_extension": ".py",
   "mimetype": "text/x-python",
   "name": "python",
   "nbconvert_exporter": "python",
   "pygments_lexer": "ipython3",
   "version": "3.6.8"
  }
 },
 "nbformat": 4,
 "nbformat_minor": 2
}
