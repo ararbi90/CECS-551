{
 "cells": [
  {
   "cell_type": "code",
   "execution_count": 1,
   "metadata": {},
   "outputs": [
    {
     "name": "stderr",
     "output_type": "stream",
     "text": [
      "Using TensorFlow backend.\n"
     ]
    }
   ],
   "source": [
    "from __future__ import print_function\n",
    "import keras\n",
    "from keras.datasets import cifar10\n",
    "from keras.preprocessing.image import ImageDataGenerator\n",
    "from keras.models import Sequential\n",
    "from keras.layers import Dense, Dropout, Activation, Flatten\n",
    "from keras.layers import Conv2D, MaxPooling2D, Conv1D, MaxPooling1D\n",
    "from keras.optimizers import SGD, Adam\n",
    "import matplotlib.pyplot as plt\n",
    "import numpy as np\n",
    "%matplotlib inline"
   ]
  },
  {
   "cell_type": "code",
   "execution_count": 2,
   "metadata": {},
   "outputs": [
    {
     "name": "stdout",
     "output_type": "stream",
     "text": [
      "Train data shape:  (25709, 48, 48, 1)\n",
      "Train labels shape:  (25709,)\n",
      "Validation data shape:  (3000, 48, 48, 1)\n",
      "Validation labels shape:  (3000,)\n",
      "Public test data shape:  (1000, 48, 48, 1)\n",
      "Public test labels shape:  (1000,)\n",
      "Private test data shape:  (1000, 48, 48, 1)\n",
      "Private test labels shape:  (1000,)\n"
     ]
    }
   ],
   "source": [
    "from utils import load_data\n",
    "\n",
    "def get_data(num_training=25709, num_validation=3000, num_pub_test=1000, num_pri_test=1000):\n",
    "    \"\"\"\n",
    "    Load the dataset from disk and perform preprocessing to prepare\n",
    "    it for the two-layer neural net classifier. These are the same steps as\n",
    "    we used for the SVM, but condensed to a single function.  \n",
    "    \"\"\"\n",
    "    X_train, y_train, X_pub_test, y_pub_test, X_pri_test, y_pri_test = load_data()\n",
    "    # Subsample the data\n",
    "    mask = list(range(num_training, num_training + num_validation))\n",
    "    X_val = X_train[mask]\n",
    "    y_val = y_train[mask]\n",
    "    mask = list(range(num_training))\n",
    "    X_train = X_train[mask]\n",
    "    y_train = y_train[mask]\n",
    "    mask = list(range(num_pub_test))\n",
    "    X_pub_test = X_pub_test[mask]\n",
    "    y_pub_test = y_pub_test[mask]\n",
    "    mask = list(range(num_pri_test))\n",
    "    X_pri_test = X_pri_test[mask]\n",
    "    y_pri_test = y_pri_test[mask]\n",
    "\n",
    "#     # Normalize the data: subtract the mean image\n",
    "    mean_image = np.mean(X_train, axis=0)\n",
    "    X_train -= mean_image\n",
    "    X_val -= mean_image\n",
    "    X_pub_test -= mean_image\n",
    "    X_pri_test -= mean_image  \n",
    "    return X_train, y_train, X_val, y_val, X_pub_test, y_pub_test, X_pri_test, y_pri_test\n",
    "    #return X_train, y_train, X_pub_test, y_pub_test, X_pri_test, y_pri_test\n",
    "\n",
    "# Cleaning up variables to prevent loading data multiple times (which may cause memory issue)\n",
    "try:\n",
    "   del X_train, y_train\n",
    "   del X_pub_test, y_pub_test\n",
    "   del X_pri_test, y_pri_test\n",
    "   print('Clear previously loaded data.')\n",
    "except:\n",
    "   pass\n",
    "\n",
    "# Invoke the above function to get our data.\n",
    "X_train, y_train, X_val, y_val, X_pub_test, y_pub_test, X_pri_test, y_pri_test = get_data()\n",
    "#X_train, y_train, X_pub_test, y_pub_test, X_pri_test, y_pri_test = get_data()\n",
    "\n",
    "print('Train data shape: ', X_train.shape)\n",
    "print('Train labels shape: ', y_train.shape)\n",
    "print('Validation data shape: ', X_val.shape)\n",
    "print('Validation labels shape: ', y_val.shape)\n",
    "print('Public test data shape: ', X_pub_test.shape)\n",
    "print('Public test labels shape: ', y_pub_test.shape)\n",
    "print('Private test data shape: ', X_pri_test.shape)\n",
    "print('Private test labels shape: ', y_pri_test.shape)"
   ]
  },
  {
   "cell_type": "code",
   "execution_count": 3,
   "metadata": {},
   "outputs": [
    {
     "data": {
      "text/plain": [
       "(48, 48, 1)"
      ]
     },
     "execution_count": 3,
     "metadata": {},
     "output_type": "execute_result"
    }
   ],
   "source": [
    "X_train[444].shape\n"
   ]
  },
  {
   "cell_type": "code",
   "execution_count": 4,
   "metadata": {},
   "outputs": [
    {
     "name": "stdout",
     "output_type": "stream",
     "text": [
      "3\n"
     ]
    },
    {
     "data": {
      "image/png": "[encoded data removed]",
      "text/plain": [
       "<Figure size 432x288 with 1 Axes>"
      ]
     },
     "metadata": {
      "needs_background": "light"
     },
     "output_type": "display_data"
    }
   ],
   "source": [
    "print(y_train[444])\n",
    "plt.imshow(X_train[444].reshape(48, 48));"
   ]
  },
  {
   "cell_type": "code",
   "execution_count": 5,
   "metadata": {},
   "outputs": [],
   "source": [
    "num_classes = 7\n",
    "\n",
    "y_train = keras.utils.to_categorical(y_train, num_classes)\n",
    "y_val = keras.utils.to_categorical(y_val, num_classes)\n",
    "y_pub_test = keras.utils.to_categorical(y_pub_test, num_classes)\n",
    "y_pri_test = keras.utils.to_categorical(y_pri_test, num_classes)"
   ]
  },
  {
   "cell_type": "code",
   "execution_count": 6,
   "metadata": {},
   "outputs": [
    {
     "data": {
      "text/plain": [
       "array([0., 0., 0., 1., 0., 0., 0.], dtype=float32)"
      ]
     },
     "execution_count": 6,
     "metadata": {},
     "output_type": "execute_result"
    }
   ],
   "source": [
    "y_train[444]"
   ]
  },
  {
   "cell_type": "code",
   "execution_count": 7,
   "metadata": {},
   "outputs": [],
   "source": [
    "# As before, let's make everything float and scale\n",
    "X_train = X_train.astype('float32')\n",
    "X_val = X_val.astype('float32')\n",
    "X_pub_test = X_pub_test.astype('float32')\n",
    "X_pri_test = X_pri_test.astype('float32')\n",
    "\n",
    "X_train /= 255\n",
    "X_val /= 255\n",
    "X_pub_test /= 255\n",
    "X_pri_test /= 255"
   ]
  },
  {
   "cell_type": "code",
   "execution_count": 16,
   "metadata": {},
   "outputs": [
    {
     "name": "stdout",
     "output_type": "stream",
     "text": [
      "_________________________________________________________________\n",
      "Layer (type)                 Output Shape              Param #   \n",
      "=================================================================\n",
      "conv2d_20 (Conv2D)           (None, 48, 48, 16)        80        \n",
      "_________________________________________________________________\n",
      "activation_30 (Activation)   (None, 48, 48, 16)        0         \n",
      "_________________________________________________________________\n",
      "batch_normalization_25 (Batc (None, 48, 48, 16)        64        \n",
      "_________________________________________________________________\n",
      "max_pooling2d_18 (MaxPooling (None, 16, 16, 16)        0         \n",
      "_________________________________________________________________\n",
      "dropout_23 (Dropout)         (None, 16, 16, 16)        0         \n",
      "_________________________________________________________________\n",
      "conv2d_21 (Conv2D)           (None, 16, 16, 32)        2080      \n",
      "_________________________________________________________________\n",
      "activation_31 (Activation)   (None, 16, 16, 32)        0         \n",
      "_________________________________________________________________\n",
      "batch_normalization_26 (Batc (None, 16, 16, 32)        128       \n",
      "_________________________________________________________________\n",
      "conv2d_22 (Conv2D)           (None, 16, 16, 32)        4128      \n",
      "_________________________________________________________________\n",
      "activation_32 (Activation)   (None, 16, 16, 32)        0         \n",
      "_________________________________________________________________\n",
      "batch_normalization_27 (Batc (None, 16, 16, 32)        128       \n",
      "_________________________________________________________________\n",
      "max_pooling2d_19 (MaxPooling (None, 8, 8, 32)          0         \n",
      "_________________________________________________________________\n",
      "dropout_24 (Dropout)         (None, 8, 8, 32)          0         \n",
      "_________________________________________________________________\n",
      "conv2d_23 (Conv2D)           (None, 8, 8, 64)          8256      \n",
      "_________________________________________________________________\n",
      "activation_33 (Activation)   (None, 8, 8, 64)          0         \n",
      "_________________________________________________________________\n",
      "batch_normalization_28 (Batc (None, 8, 8, 64)          256       \n",
      "_________________________________________________________________\n",
      "conv2d_24 (Conv2D)           (None, 8, 8, 64)          16448     \n",
      "_________________________________________________________________\n",
      "activation_34 (Activation)   (None, 8, 8, 64)          0         \n",
      "_________________________________________________________________\n",
      "batch_normalization_29 (Batc (None, 8, 8, 64)          256       \n",
      "_________________________________________________________________\n",
      "max_pooling2d_20 (MaxPooling (None, 4, 4, 64)          0         \n",
      "_________________________________________________________________\n",
      "dropout_25 (Dropout)         (None, 4, 4, 64)          0         \n",
      "_________________________________________________________________\n",
      "flatten_6 (Flatten)          (None, 1024)              0         \n",
      "_________________________________________________________________\n",
      "dense_11 (Dense)             (None, 512)               524800    \n",
      "_________________________________________________________________\n",
      "activation_35 (Activation)   (None, 512)               0         \n",
      "_________________________________________________________________\n",
      "batch_normalization_30 (Batc (None, 512)               2048      \n",
      "_________________________________________________________________\n",
      "dropout_26 (Dropout)         (None, 512)               0         \n",
      "_________________________________________________________________\n",
      "dense_12 (Dense)             (None, 7)                 3591      \n",
      "_________________________________________________________________\n",
      "activation_36 (Activation)   (None, 7)                 0         \n",
      "=================================================================\n",
      "Total params: 562,263\n",
      "Trainable params: 560,823\n",
      "Non-trainable params: 1,440\n",
      "_________________________________________________________________\n"
     ]
    },
    {
     "data": {
      "text/plain": [
       "(48, 48, 1)"
      ]
     },
     "execution_count": 16,
     "metadata": {},
     "output_type": "execute_result"
    }
   ],
   "source": [
    "#VGG MODEL\n",
    "# Create model_2 as mentioned in the exercise\n",
    "# Let's build a CNN using Keras' Sequential capabilities\n",
    "from keras.layers.normalization import BatchNormalization\n",
    "model = Sequential()\n",
    "\n",
    "model.add(Conv2D(16, (2, 2), padding=\"same\",\n",
    "input_shape=X_train.shape[1:]))\n",
    "model.add(Activation(\"relu\"))\n",
    "model.add(BatchNormalization())\n",
    "model.add(MaxPooling2D(pool_size=(3, 3)))\n",
    "model.add(Dropout(0.25))\n",
    "\n",
    "# (CONV => RELU) * 2 => POOL\n",
    "model.add(Conv2D(32, (2, 2), padding=\"same\"))\n",
    "model.add(Activation(\"relu\"))\n",
    "model.add(BatchNormalization())\n",
    "model.add(Conv2D(32, (2, 2), padding=\"same\"))\n",
    "model.add(Activation(\"relu\"))\n",
    "model.add(BatchNormalization())\n",
    "model.add(MaxPooling2D(pool_size=(2, 2)))\n",
    "model.add(Dropout(0.25))\n",
    "\n",
    "# (CONV => RELU) * 2 => POOL\n",
    "model.add(Conv2D(64, (2, 2), padding=\"same\"))\n",
    "model.add(Activation(\"relu\"))\n",
    "model.add(BatchNormalization())\n",
    "model.add(Conv2D(64, (2, 2), padding=\"same\"))\n",
    "model.add(Activation(\"relu\"))\n",
    "model.add(BatchNormalization())\n",
    "model.add(MaxPooling2D(pool_size=(2, 2)))\n",
    "model.add(Dropout(0.25))\n",
    "\n",
    "# first (and only) set of FC => RELU layers\n",
    "model.add(Flatten())\n",
    "model.add(Dense(512))\n",
    "model.add(Activation(\"relu\"))\n",
    "model.add(BatchNormalization())\n",
    "model.add(Dropout(0.5))\n",
    "\n",
    "# softmax classifier\n",
    "model.add(Dense(7))\n",
    "model.add(Activation(\"softmax\"))\n",
    "\n",
    "model.summary()\n",
    "X_train.shape[1:]"
   ]
  },
  {
   "cell_type": "code",
   "execution_count": 17,
   "metadata": {},
   "outputs": [
    {
     "name": "stdout",
     "output_type": "stream",
     "text": [
      "Train on 25709 samples, validate on 3000 samples\n",
      "Epoch 1/50\n",
      "25709/25709 [==============================] - 48s 2ms/step - loss: 2.1486 - acc: 0.2601 - val_loss: 1.6227 - val_acc: 0.3757\n",
      "Epoch 2/50\n",
      "25709/25709 [==============================] - 44s 2ms/step - loss: 1.6666 - acc: 0.3521 - val_loss: 1.5034 - val_acc: 0.4117\n",
      "Epoch 3/50\n",
      "25709/25709 [==============================] - 37s 1ms/step - loss: 1.5503 - acc: 0.3971 - val_loss: 1.3804 - val_acc: 0.4650\n",
      "Epoch 4/50\n",
      "25709/25709 [==============================] - 37s 1ms/step - loss: 1.4803 - acc: 0.4289 - val_loss: 1.3641 - val_acc: 0.4733\n",
      "Epoch 5/50\n",
      "25709/25709 [==============================] - 37s 1ms/step - loss: 1.4319 - acc: 0.4482 - val_loss: 1.3269 - val_acc: 0.4870\n",
      "Epoch 6/50\n",
      "25709/25709 [==============================] - 37s 1ms/step - loss: 1.3903 - acc: 0.4655 - val_loss: 1.2931 - val_acc: 0.4993\n",
      "Epoch 7/50\n",
      "25709/25709 [==============================] - 37s 1ms/step - loss: 1.3597 - acc: 0.4800 - val_loss: 1.2495 - val_acc: 0.5237\n",
      "Epoch 8/50\n",
      "25709/25709 [==============================] - 40s 2ms/step - loss: 1.3386 - acc: 0.4879 - val_loss: 1.2457 - val_acc: 0.5200\n",
      "Epoch 9/50\n",
      "25709/25709 [==============================] - 37s 1ms/step - loss: 1.3155 - acc: 0.4970 - val_loss: 1.2084 - val_acc: 0.5350\n",
      "Epoch 10/50\n",
      "25709/25709 [==============================] - 37s 1ms/step - loss: 1.2891 - acc: 0.5083 - val_loss: 1.2112 - val_acc: 0.5283\n",
      "Epoch 11/50\n",
      "25709/25709 [==============================] - 37s 1ms/step - loss: 1.2730 - acc: 0.5140 - val_loss: 1.2687 - val_acc: 0.5170\n",
      "Epoch 12/50\n",
      "25709/25709 [==============================] - 37s 1ms/step - loss: 1.2569 - acc: 0.5202 - val_loss: 1.1523 - val_acc: 0.5643\n",
      "Epoch 13/50\n",
      "25709/25709 [==============================] - 37s 1ms/step - loss: 1.2443 - acc: 0.5270 - val_loss: 1.1905 - val_acc: 0.5433\n",
      "Epoch 14/50\n",
      "25709/25709 [==============================] - 37s 1ms/step - loss: 1.2264 - acc: 0.5323 - val_loss: 1.1347 - val_acc: 0.5623\n",
      "Epoch 15/50\n",
      "25709/25709 [==============================] - 37s 1ms/step - loss: 1.2124 - acc: 0.5366 - val_loss: 1.1462 - val_acc: 0.5653\n",
      "Epoch 16/50\n",
      "25709/25709 [==============================] - 37s 1ms/step - loss: 1.1918 - acc: 0.5476 - val_loss: 1.1307 - val_acc: 0.5687\n",
      "Epoch 17/50\n",
      "25709/25709 [==============================] - 44s 2ms/step - loss: 1.1732 - acc: 0.5544 - val_loss: 1.1123 - val_acc: 0.5810\n",
      "Epoch 18/50\n",
      "25709/25709 [==============================] - 37s 1ms/step - loss: 1.1724 - acc: 0.5561 - val_loss: 1.1153 - val_acc: 0.5690\n",
      "Epoch 19/50\n",
      "25709/25709 [==============================] - 37s 1ms/step - loss: 1.1602 - acc: 0.5582 - val_loss: 1.3296 - val_acc: 0.4933\n",
      "Epoch 20/50\n",
      "25709/25709 [==============================] - 37s 1ms/step - loss: 1.1450 - acc: 0.5623 - val_loss: 1.0898 - val_acc: 0.5747\n",
      "Epoch 21/50\n",
      "25709/25709 [==============================] - 37s 1ms/step - loss: 1.1387 - acc: 0.5674 - val_loss: 1.0929 - val_acc: 0.5837\n",
      "Epoch 22/50\n",
      "25709/25709 [==============================] - 37s 1ms/step - loss: 1.1216 - acc: 0.5730 - val_loss: 1.1095 - val_acc: 0.5707\n",
      "Epoch 23/50\n",
      "25709/25709 [==============================] - 37s 1ms/step - loss: 1.1196 - acc: 0.5750 - val_loss: 1.1389 - val_acc: 0.5633\n",
      "Epoch 24/50\n",
      "25709/25709 [==============================] - 37s 1ms/step - loss: 1.1028 - acc: 0.5838 - val_loss: 1.0991 - val_acc: 0.5790\n",
      "Epoch 25/50\n",
      "25709/25709 [==============================] - 43s 2ms/step - loss: 1.0937 - acc: 0.5878 - val_loss: 1.0868 - val_acc: 0.5883\n",
      "Epoch 26/50\n",
      "25709/25709 [==============================] - 37s 1ms/step - loss: 1.0785 - acc: 0.5908 - val_loss: 1.0791 - val_acc: 0.5873\n",
      "Epoch 27/50\n",
      "25709/25709 [==============================] - 37s 1ms/step - loss: 1.0743 - acc: 0.5938 - val_loss: 1.0799 - val_acc: 0.5920\n",
      "Epoch 28/50\n",
      "25709/25709 [==============================] - 38s 1ms/step - loss: 1.0572 - acc: 0.6043 - val_loss: 1.0933 - val_acc: 0.5757\n",
      "Epoch 29/50\n",
      "25709/25709 [==============================] - 37s 1ms/step - loss: 1.0527 - acc: 0.6036 - val_loss: 1.1464 - val_acc: 0.5590\n",
      "Epoch 30/50\n",
      "25709/25709 [==============================] - 37s 1ms/step - loss: 1.0386 - acc: 0.6071 - val_loss: 1.0708 - val_acc: 0.5930\n",
      "Epoch 31/50\n",
      "25709/25709 [==============================] - 37s 1ms/step - loss: 1.0308 - acc: 0.6093 - val_loss: 1.0926 - val_acc: 0.5807\n",
      "Epoch 32/50\n",
      "25709/25709 [==============================] - 37s 1ms/step - loss: 1.0200 - acc: 0.6179 - val_loss: 1.0743 - val_acc: 0.5903\n",
      "Epoch 33/50\n",
      "25709/25709 [==============================] - 40s 2ms/step - loss: 1.0131 - acc: 0.6195 - val_loss: 1.0656 - val_acc: 0.5893\n",
      "Epoch 34/50\n",
      "25709/25709 [==============================] - 37s 1ms/step - loss: 1.0104 - acc: 0.6176 - val_loss: 1.0920 - val_acc: 0.5877\n",
      "Epoch 35/50\n",
      "25709/25709 [==============================] - 37s 1ms/step - loss: 0.9991 - acc: 0.6237 - val_loss: 1.0791 - val_acc: 0.5907\n",
      "Epoch 36/50\n",
      "25709/25709 [==============================] - 37s 1ms/step - loss: 0.9979 - acc: 0.6265 - val_loss: 1.0678 - val_acc: 0.5987\n",
      "Epoch 37/50\n",
      "25709/25709 [==============================] - 37s 1ms/step - loss: 0.9845 - acc: 0.6302 - val_loss: 1.0799 - val_acc: 0.5987\n",
      "Epoch 38/50\n",
      "25709/25709 [==============================] - 37s 1ms/step - loss: 0.9720 - acc: 0.6340 - val_loss: 1.0628 - val_acc: 0.6037\n",
      "Epoch 39/50\n",
      "25709/25709 [==============================] - 37s 1ms/step - loss: 0.9721 - acc: 0.6320 - val_loss: 1.0613 - val_acc: 0.6007\n",
      "Epoch 40/50\n",
      "25709/25709 [==============================] - 37s 1ms/step - loss: 0.9633 - acc: 0.6380 - val_loss: 1.0649 - val_acc: 0.5983\n",
      "Epoch 41/50\n",
      "25709/25709 [==============================] - 37s 1ms/step - loss: 0.9567 - acc: 0.6424 - val_loss: 1.0484 - val_acc: 0.6053\n",
      "Epoch 42/50\n",
      "25709/25709 [==============================] - 38s 1ms/step - loss: 0.9510 - acc: 0.6435 - val_loss: 1.0517 - val_acc: 0.6003\n",
      "Epoch 43/50\n",
      "25709/25709 [==============================] - 36s 1ms/step - loss: 0.9352 - acc: 0.6470 - val_loss: 1.0569 - val_acc: 0.6017\n",
      "Epoch 44/50\n",
      "25709/25709 [==============================] - 36s 1ms/step - loss: 0.9369 - acc: 0.6467 - val_loss: 1.0656 - val_acc: 0.5953\n",
      "Epoch 45/50\n",
      "25709/25709 [==============================] - 37s 1ms/step - loss: 0.9419 - acc: 0.6504 - val_loss: 1.0728 - val_acc: 0.6093\n",
      "Epoch 46/50\n",
      "25709/25709 [==============================] - 37s 1ms/step - loss: 0.9268 - acc: 0.6520 - val_loss: 1.0658 - val_acc: 0.6023\n",
      "Epoch 47/50\n",
      "25709/25709 [==============================] - 37s 1ms/step - loss: 0.9235 - acc: 0.6530 - val_loss: 1.0737 - val_acc: 0.5987\n",
      "Epoch 48/50\n",
      "25709/25709 [==============================] - 37s 1ms/step - loss: 0.9141 - acc: 0.6532 - val_loss: 1.0803 - val_acc: 0.6010\n",
      "Epoch 49/50\n",
      "25709/25709 [==============================] - 37s 1ms/step - loss: 0.9166 - acc: 0.6575 - val_loss: 1.0579 - val_acc: 0.6093\n",
      "Epoch 50/50\n",
      "25709/25709 [==============================] - 41s 2ms/step - loss: 0.9077 - acc: 0.6587 - val_loss: 1.0823 - val_acc: 0.5957\n"
     ]
    }
   ],
   "source": [
    "batch_size = 64\n",
    "\n",
    "# initiate RMSprop optimizer\n",
    "opt = keras.optimizers.rmsprop(lr=0.0005, decay=1e-6)\n",
    "sgd = SGD(lr=0.05, decay=1e-6, momentum=0.9, nesterov=True)\n",
    "adam =Adam(lr=0.001, beta_1=0.9, beta_2=0.999, epsilon=1e-8)\n",
    "# Let's train the model using RMSprop\n",
    "model.compile(loss='categorical_crossentropy',\n",
    "              optimizer=adam,\n",
    "              metrics=['accuracy'])\n",
    "\n",
    "history = model.fit(X_train, y_train,\n",
    "              batch_size=batch_size,\n",
    "              epochs=50,\n",
    "              validation_data=(X_val, y_val),\n",
    "              shuffle=True)"
   ]
  },
  {
   "cell_type": "code",
   "execution_count": 20,
   "metadata": {},
   "outputs": [],
   "source": [
    "#Save trained model and history\n",
    "import pickle\n",
    "f = open('history.pckl', 'wb')\n",
    "pickle.dump(history.history, f)\n",
    "f.close()\n",
    "\n",
    "filename = 'Trained_VGG.sav'\n",
    "pickle.dump(model, open(filename, 'wb'))"
   ]
  },
  {
   "cell_type": "code",
   "execution_count": null,
   "metadata": {},
   "outputs": [],
   "source": [
    "# from keras.utils import plot_model\n",
    "# plot_model(model, to_file='model.png')"
   ]
  },
  {
   "cell_type": "code",
   "execution_count": null,
   "metadata": {},
   "outputs": [],
   "source": [
    "# from IPython.display import SVG\n",
    "# from keras.utils.vis_utils import model_to_dot\n",
    "# SVG(model_to_dot(model).create(prog='dot', format='svg'))"
   ]
  }
 ],
 "metadata": {
  "kernelspec": {
   "display_name": "Python 3",
   "language": "python",
   "name": "python3"
  },
  "language_info": {
   "codemirror_mode": {
    "name": "ipython",
    "version": 3
   },
   "file_extension": ".py",
   "mimetype": "text/x-python",
   "name": "python",
   "nbconvert_exporter": "python",
   "pygments_lexer": "ipython3",
   "version": "3.6.8"
  }
 },
 "nbformat": 4,
 "nbformat_minor": 2
}
