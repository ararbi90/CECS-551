{
 "cells": [
  {
   "cell_type": "markdown",
   "metadata": {},
   "source": [
    "# Building a CNN to classify images in the CIFAR-10 Dataset\n",
    "We will work with the CIFAR-10 Dataset. This is a well-known dataset for image classification, which consists of 60000 32x32 color images in 10 classes, with 6000 images per class. There are 50000 training images and 10000 test images.\n",
    "\n",
    "The 10 classes are:\n",
    "\n",
    "airplane\n",
    "automobile\n",
    "bird\n",
    "cat\n",
    "deer\n",
    "dog\n",
    "frog\n",
    "horse\n",
    "ship\n",
    "truck\n",
    "For details about CIFAR-10 see: https://www.cs.toronto.edu/~kriz/cifar.html\n",
    "\n",
    "For a compilation of published performance results on CIFAR 10, see: http://rodrigob.github.io/are_we_there_yet/build/classification_datasets_results.html\n",
    "\n",
    "Building Convolutional Neural Nets\n",
    "In this exercise we will build and train our first convolutional neural networks. In the first part, we walk through the different layers and how they are configured. In the second part, you will build your own model, train it, and compare the performance."
   ]
  },
  {
   "cell_type": "markdown",
   "metadata": {},
   "source": [
    "## Building Convolutional Neural Nets \n",
    "In this exercise we will build and train our first convolutional neural networks. In the first part, we walk through the different layers and how they are configured. In the second part, you will build your own model, train it, and compare the performance."
   ]
  },
  {
   "cell_type": "code",
   "execution_count": 49,
   "metadata": {},
   "outputs": [],
   "source": [
    "# Preliminaries\n",
    "\n",
    "from __future__ import print_function\n",
    "\n",
    "import keras\n",
    "from keras.datasets import mnist\n",
    "from keras.models import Sequential\n",
    "from keras.layers import Dense, Dropout\n",
    "from keras.optimizers import RMSprop\n",
    "\n",
    "import numpy as np\n",
    "import matplotlib.pyplot as plt\n",
    "%matplotlib inline"
   ]
  },
  {
   "cell_type": "code",
   "execution_count": 50,
   "metadata": {},
   "outputs": [
    {
     "name": "stdout",
     "output_type": "stream",
     "text": [
      "Clear previously loaded data.\n",
      "Train data shape:  (28709, 48, 48)\n",
      "Train labels shape:  (28709,)\n",
      "Public test data shape:  (3589, 48, 48)\n",
      "Public test labels shape:  (3589,)\n",
      "Private test data shape:  (3589, 48, 48)\n",
      "Private test labels shape:  (3589,)\n"
     ]
    }
   ],
   "source": [
    "from utils import load_data\n",
    "\n",
    "def get_data(num_training=27709, num_validation=1000, num_pub_test=1000, num_pri_test=1000):\n",
    "    \"\"\"\n",
    "    Load the dataset from disk and perform preprocessing to prepare\n",
    "    it for the two-layer neural net classifier. These are the same steps as\n",
    "    we used for the SVM, but condensed to a single function.  \n",
    "    \"\"\"\n",
    "    X_train, y_train, X_pub_test, y_pub_test, X_pri_test, y_pri_test = load_data()\n",
    "        \n",
    "#     # Subsample the data\n",
    "#     mask = list(range(num_training, num_training + num_validation))\n",
    "#     X_val = X_train[mask]\n",
    "#     y_val = y_train[mask]\n",
    "#     mask = list(range(num_training))\n",
    "#     X_train = X_train[mask]\n",
    "#     y_train = y_train[mask]\n",
    "#     mask = list(range(num_pub_test))\n",
    "#     X_pub_test = X_pub_test[mask]\n",
    "#     y_pub_test = y_pub_test[mask]\n",
    "#     mask = list(range(num_pri_test))\n",
    "#     X_pri_test = X_pri_test[mask]\n",
    "#     y_pri_test = y_pri_test[mask]\n",
    "\n",
    "#     # Normalize the data: subtract the mean image\n",
    "#     mean_image = np.mean(X_train, axis=0)\n",
    "#     X_train -= mean_image\n",
    "#     X_val -= mean_image\n",
    "#     X_pub_test -= mean_image\n",
    "#     X_pri_test -= mean_image\n",
    "# #     X_train /= np.std(X_train, axis = 0)\n",
    "# #     X_val /= np.std(X_val, axis = 0)\n",
    "# #     X_pub_test /= np.std(X_pub_test, axis = 0)\n",
    "# #     X_pri_test /= np.std(X_pri_test, axis = 0)\n",
    "\n",
    "#     # Reshape data to rows\n",
    "#     X_train = X_train.reshape(num_training, -1)\n",
    "#     X_val = X_val.reshape(num_validation, -1)\n",
    "#     X_pub_test = X_pub_test.reshape(num_pub_test, -1)\n",
    "#     X_pri_test = X_pri_test.reshape(num_pri_test, -1)\n",
    "#    return X_train, y_train, X_val, y_val, X_pub_test, y_pub_test, X_pri_test, y_pri_test\n",
    "    return X_train, y_train, X_pub_test, y_pub_test, X_pri_test, y_pri_test\n",
    "\n",
    "# Cleaning up variables to prevent loading data multiple times (which may cause memory issue)\n",
    "try:\n",
    "   del X_train, y_train\n",
    "   del X_pub_test, y_pub_test\n",
    "   del X_pri_test, y_pri_test\n",
    "   print('Clear previously loaded data.')\n",
    "except:\n",
    "   pass\n",
    "\n",
    "# Invoke the above function to get our data.\n",
    "#X_train, y_train, X_val, y_val, X_pub_test, y_pub_test, X_pri_test, y_pri_test = get_data()\n",
    "X_train, y_train, X_pub_test, y_pub_test, X_pri_test, y_pri_test = get_data()\n",
    "\n",
    "print('Train data shape: ', X_train.shape)\n",
    "print('Train labels shape: ', y_train.shape)\n",
    "# print('Validation data shape: ', X_val.shape)\n",
    "# print('Validation labels shape: ', y_val.shape)\n",
    "print('Public test data shape: ', X_pub_test.shape)\n",
    "print('Public test labels shape: ', y_pub_test.shape)\n",
    "print('Private test data shape: ', X_pri_test.shape)\n",
    "print('Private test labels shape: ', y_pri_test.shape)"
   ]
  },
  {
   "cell_type": "code",
   "execution_count": 51,
   "metadata": {},
   "outputs": [
    {
     "name": "stdout",
     "output_type": "stream",
     "text": [
      "x_train shape: (28709, 48, 48)\n",
      "28709 train samples\n",
      "3589 test samples\n",
      "3589 test samples\n"
     ]
    }
   ],
   "source": [
    "print('x_train shape:', X_train.shape)\n",
    "print(X_train.shape[0], 'train samples')\n",
    "print(X_pub_test.shape[0], 'test samples')\n",
    "print(X_pri_test.shape[0], 'test samples')"
   ]
  },
  {
   "cell_type": "code",
   "execution_count": 52,
   "metadata": {},
   "outputs": [
    {
     "name": "stdout",
     "output_type": "stream",
     "text": [
      "(48, 48)\n",
      "[[237. 237. 228. ...  23.  25.  28.]\n",
      " [238. 233. 227. ...  29.  34.  37.]\n",
      " [238. 231. 227. ...  39.  41.  45.]\n",
      " ...\n",
      " [117.  18.  39. ...  96.  43.  29.]\n",
      " [117.  22.  36. ...  91.  38.  27.]\n",
      " [115.  25.  34. ...  82.  40.  25.]]\n"
     ]
    }
   ],
   "source": [
    "## Each image is a 32 x 32 x 3 numpy array\n",
    "print(X_train[444].shape)\n",
    "print(X_train[444])"
   ]
  },
  {
   "cell_type": "code",
   "execution_count": 53,
   "metadata": {},
   "outputs": [
    {
     "name": "stdout",
     "output_type": "stream",
     "text": [
      "3\n"
     ]
    },
    {
     "data": {
      "image/png": "[encoded data removed]",
      "text/plain": [
       "<Figure size 432x288 with 1 Axes>"
      ]
     },
     "metadata": {
      "needs_background": "light"
     },
     "output_type": "display_data"
    }
   ],
   "source": [
    "print(y_train[444])\n",
    "plt.imshow(X_train[444], cmap='Greys_r');"
   ]
  },
  {
   "cell_type": "code",
   "execution_count": 54,
   "metadata": {},
   "outputs": [
    {
     "name": "stdout",
     "output_type": "stream",
     "text": [
      "(28709, 48, 48) train samples\n",
      "(3589, 48, 48) public test samples\n",
      "(3589, 48, 48) private test sample\n"
     ]
    }
   ],
   "source": [
    "# this is the shape of the np.array x_train\n",
    "# it is 3 dimensional.\n",
    "print(X_train.shape, 'train samples')\n",
    "print(X_pub_test.shape, 'public test samples')\n",
    "print(X_pri_test.shape, 'private test sample')"
   ]
  },
  {
   "cell_type": "code",
   "execution_count": 55,
   "metadata": {},
   "outputs": [],
   "source": [
    "## For our purposes, these images are just a vector of 784 inputs, so let's convert\n",
    "X_train = X_train.reshape(len(X_train), 48*48)\n",
    "X_pub_test = X_pub_test.reshape(len(X_pub_test), 48*48)\n",
    "X_pri_test = X_pri_test.reshape(len(X_pri_test), 48*48)\n",
    "\n",
    "\n",
    "# As before, let's make everything float and scale\n",
    "X_train = X_train.astype('float32')\n",
    "X_pub_test = X_pub_test.astype('float32')\n",
    "X_pri_test = X_pri_test.astype('float32')\n",
    "\n",
    "X_train /= 255\n",
    "X_pub_test /= 255\n",
    "X_pri_test /= 255"
   ]
  },
  {
   "cell_type": "code",
   "execution_count": 56,
   "metadata": {},
   "outputs": [
    {
     "data": {
      "text/plain": [
       "array([0., 0., 0., 1., 0., 0., 0.], dtype=float32)"
      ]
     },
     "execution_count": 56,
     "metadata": {},
     "output_type": "execute_result"
    }
   ],
   "source": [
    "num_classes = 7\n",
    "\n",
    "y_train = keras.utils.to_categorical(y_train, num_classes)\n",
    "y_pub_test = keras.utils.to_categorical(y_pub_test, num_classes)\n",
    "y_pri_test = keras.utils.to_categorical(y_pri_test, num_classes)\n",
    "\n",
    "y_train[333]  # now the digit k is represented by a 1 in the kth entry (0-indexed) of the length 10 vector"
   ]
  },
  {
   "cell_type": "code",
   "execution_count": 61,
   "metadata": {},
   "outputs": [
    {
     "name": "stdout",
     "output_type": "stream",
     "text": [
      "_________________________________________________________________\n",
      "Layer (type)                 Output Shape              Param #   \n",
      "=================================================================\n",
      "dense_16 (Dense)             (None, 400)               922000    \n",
      "_________________________________________________________________\n",
      "dropout_11 (Dropout)         (None, 400)               0         \n",
      "_________________________________________________________________\n",
      "dense_17 (Dense)             (None, 300)               120300    \n",
      "_________________________________________________________________\n",
      "dropout_12 (Dropout)         (None, 300)               0         \n",
      "_________________________________________________________________\n",
      "dense_18 (Dense)             (None, 7)                 2107      \n",
      "=================================================================\n",
      "Total params: 1,044,407\n",
      "Trainable params: 1,044,407\n",
      "Non-trainable params: 0\n",
      "_________________________________________________________________\n"
     ]
    }
   ],
   "source": [
    "### Build your model here\n",
    "model_2 = Sequential()\n",
    "model_2.add(Dense(400, activation='relu', input_shape=(2304,)))\n",
    "model_2.add(Dropout(0.4))\n",
    "model_2.add(Dense(300, activation='relu'))\n",
    "model_2.add(Dropout(0.4))\n",
    "model_2.add(Dense(7, activation='softmax'))\n",
    "model_2.summary()"
   ]
  },
  {
   "cell_type": "code",
   "execution_count": 62,
   "metadata": {},
   "outputs": [],
   "source": [
    "# Let's compile the model\n",
    "learning_rate = .001\n",
    "model_2.compile(loss='categorical_crossentropy',\n",
    "              optimizer=RMSprop(lr=learning_rate),\n",
    "              metrics=['accuracy'])\n",
    "# note that `categorical cross entropy` is the natural generalization \n",
    "# of the loss function we had in binary classification case, to multi class case"
   ]
  },
  {
   "cell_type": "code",
   "execution_count": 64,
   "metadata": {},
   "outputs": [
    {
     "name": "stdout",
     "output_type": "stream",
     "text": [
      "Train on 28709 samples, validate on 3589 samples\n",
      "Epoch 1/40\n",
      "28709/28709 [==============================] - 4s 155us/step - loss: 1.7300 - acc: 0.3097 - val_loss: 1.7226 - val_acc: 0.3422\n",
      "Epoch 2/40\n",
      "28709/28709 [==============================] - 5s 161us/step - loss: 1.7246 - acc: 0.3125 - val_loss: 1.7102 - val_acc: 0.3282\n",
      "Epoch 3/40\n",
      "28709/28709 [==============================] - 4s 150us/step - loss: 1.7214 - acc: 0.3143 - val_loss: 1.7072 - val_acc: 0.3555\n",
      "Epoch 4/40\n",
      "28709/28709 [==============================] - 4s 145us/step - loss: 1.7208 - acc: 0.3100 - val_loss: 1.6995 - val_acc: 0.3151\n",
      "Epoch 5/40\n",
      "28709/28709 [==============================] - 4s 144us/step - loss: 1.7153 - acc: 0.3168 - val_loss: 1.6951 - val_acc: 0.3480\n",
      "Epoch 6/40\n",
      "28709/28709 [==============================] - 4s 143us/step - loss: 1.7102 - acc: 0.3173 - val_loss: 1.7211 - val_acc: 0.2979\n",
      "Epoch 7/40\n",
      "28709/28709 [==============================] - 4s 144us/step - loss: 1.7076 - acc: 0.3202 - val_loss: 1.7061 - val_acc: 0.3497\n",
      "Epoch 8/40\n",
      "28709/28709 [==============================] - 4s 144us/step - loss: 1.7076 - acc: 0.3248 - val_loss: 1.7085 - val_acc: 0.3268\n",
      "Epoch 9/40\n",
      "28709/28709 [==============================] - 4s 156us/step - loss: 1.7019 - acc: 0.3240 - val_loss: 1.6877 - val_acc: 0.3430\n",
      "Epoch 10/40\n",
      "28709/28709 [==============================] - 4s 144us/step - loss: 1.6972 - acc: 0.3289 - val_loss: 1.6766 - val_acc: 0.3639\n",
      "Epoch 11/40\n",
      "28709/28709 [==============================] - 4s 143us/step - loss: 1.6969 - acc: 0.3244 - val_loss: 1.7073 - val_acc: 0.3107\n",
      "Epoch 12/40\n",
      "28709/28709 [==============================] - 4s 145us/step - loss: 1.6997 - acc: 0.3272 - val_loss: 1.6743 - val_acc: 0.3511\n",
      "Epoch 13/40\n",
      "28709/28709 [==============================] - 4s 144us/step - loss: 1.6933 - acc: 0.3327 - val_loss: 1.6931 - val_acc: 0.3519\n",
      "Epoch 14/40\n",
      "28709/28709 [==============================] - 4s 143us/step - loss: 1.6889 - acc: 0.3341 - val_loss: 1.6864 - val_acc: 0.3452\n",
      "Epoch 15/40\n",
      "28709/28709 [==============================] - 4s 143us/step - loss: 1.6874 - acc: 0.3315 - val_loss: 1.6897 - val_acc: 0.3472\n",
      "Epoch 16/40\n",
      "28709/28709 [==============================] - 4s 144us/step - loss: 1.6851 - acc: 0.3372 - val_loss: 1.6760 - val_acc: 0.3578\n",
      "Epoch 17/40\n",
      "28709/28709 [==============================] - 4s 144us/step - loss: 1.6862 - acc: 0.3343 - val_loss: 1.6756 - val_acc: 0.3569\n",
      "Epoch 18/40\n",
      "28709/28709 [==============================] - 4s 144us/step - loss: 1.6834 - acc: 0.3365 - val_loss: 1.6588 - val_acc: 0.3578\n",
      "Epoch 19/40\n",
      "28709/28709 [==============================] - 4s 143us/step - loss: 1.6783 - acc: 0.3381 - val_loss: 1.6438 - val_acc: 0.3667\n",
      "Epoch 20/40\n",
      "28709/28709 [==============================] - 4s 145us/step - loss: 1.6784 - acc: 0.3395 - val_loss: 1.6916 - val_acc: 0.3475\n",
      "Epoch 21/40\n",
      "28709/28709 [==============================] - 4s 146us/step - loss: 1.6813 - acc: 0.3373 - val_loss: 1.6679 - val_acc: 0.3686\n",
      "Epoch 22/40\n",
      "28709/28709 [==============================] - 4s 143us/step - loss: 1.6760 - acc: 0.3412 - val_loss: 1.6602 - val_acc: 0.3642\n",
      "Epoch 23/40\n",
      "28709/28709 [==============================] - 4s 144us/step - loss: 1.6765 - acc: 0.3395 - val_loss: 1.6617 - val_acc: 0.3486\n",
      "Epoch 24/40\n",
      "28709/28709 [==============================] - 4s 144us/step - loss: 1.6691 - acc: 0.3445 - val_loss: 1.6835 - val_acc: 0.3580\n",
      "Epoch 25/40\n",
      "28709/28709 [==============================] - 4s 143us/step - loss: 1.6724 - acc: 0.3408 - val_loss: 1.6801 - val_acc: 0.3519\n",
      "Epoch 26/40\n",
      "28709/28709 [==============================] - 4s 144us/step - loss: 1.6648 - acc: 0.3438 - val_loss: 1.6512 - val_acc: 0.3586\n",
      "Epoch 27/40\n",
      "28709/28709 [==============================] - 4s 146us/step - loss: 1.6647 - acc: 0.3433 - val_loss: 1.6746 - val_acc: 0.3419\n",
      "Epoch 28/40\n",
      "28709/28709 [==============================] - 4s 145us/step - loss: 1.6659 - acc: 0.3439 - val_loss: 1.6457 - val_acc: 0.3672\n",
      "Epoch 29/40\n",
      "28709/28709 [==============================] - 4s 143us/step - loss: 1.6645 - acc: 0.3468 - val_loss: 1.6805 - val_acc: 0.3335\n",
      "Epoch 30/40\n",
      "28709/28709 [==============================] - 4s 144us/step - loss: 1.6633 - acc: 0.3448 - val_loss: 1.6786 - val_acc: 0.3288\n",
      "Epoch 31/40\n",
      "28709/28709 [==============================] - 4s 143us/step - loss: 1.6635 - acc: 0.3461 - val_loss: 1.6550 - val_acc: 0.3756\n",
      "Epoch 32/40\n",
      "28709/28709 [==============================] - 5s 158us/step - loss: 1.6602 - acc: 0.3466 - val_loss: 1.6571 - val_acc: 0.3416\n",
      "Epoch 33/40\n",
      "28709/28709 [==============================] - 4s 148us/step - loss: 1.6605 - acc: 0.3477 - val_loss: 1.6562 - val_acc: 0.3419\n",
      "Epoch 34/40\n",
      "28709/28709 [==============================] - 4s 151us/step - loss: 1.6522 - acc: 0.3525 - val_loss: 1.6387 - val_acc: 0.3683\n",
      "Epoch 35/40\n",
      "28709/28709 [==============================] - 4s 146us/step - loss: 1.6564 - acc: 0.3486 - val_loss: 1.6551 - val_acc: 0.3603\n",
      "Epoch 36/40\n",
      "28709/28709 [==============================] - 4s 145us/step - loss: 1.6523 - acc: 0.3523 - val_loss: 1.6587 - val_acc: 0.3605\n",
      "Epoch 37/40\n",
      "28709/28709 [==============================] - 4s 145us/step - loss: 1.6503 - acc: 0.3510 - val_loss: 1.6653 - val_acc: 0.3569\n",
      "Epoch 38/40\n",
      "28709/28709 [==============================] - 4s 143us/step - loss: 1.6513 - acc: 0.3543 - val_loss: 1.6824 - val_acc: 0.3636\n",
      "Epoch 39/40\n",
      "28709/28709 [==============================] - 4s 144us/step - loss: 1.6541 - acc: 0.3507 - val_loss: 1.6560 - val_acc: 0.3700\n",
      "Epoch 40/40\n",
      "28709/28709 [==============================] - ETA: 0s - loss: 1.6462 - acc: 0.356 - 4s 147us/step - loss: 1.6467 - acc: 0.3564 - val_loss: 1.6467 - val_acc: 0.3644\n"
     ]
    }
   ],
   "source": [
    "# And now let's fit.\n",
    "\n",
    "batch_size = 150  # mini-batch with 128 examples\n",
    "epochs = 40\n",
    "history = model_2.fit(\n",
    "    X_train, y_train,\n",
    "    batch_size=batch_size,\n",
    "    epochs=epochs,\n",
    "    verbose=1,\n",
    "    validation_data=(X_pub_test, y_pub_test))"
   ]
  },
  {
   "cell_type": "code",
   "execution_count": 65,
   "metadata": {},
   "outputs": [
    {
     "name": "stdout",
     "output_type": "stream",
     "text": [
      "Test loss: 1.661073038391364\n",
      "Test accuracy: 0.3530231262231544\n"
     ]
    }
   ],
   "source": [
    "## We will use Keras evaluate function to evaluate performance on the test set\n",
    "\n",
    "score = model_2.evaluate(X_pri_test, y_pri_test, verbose=0)\n",
    "print('Test loss:', score[0])\n",
    "print('Test accuracy:', score[1])"
   ]
  },
  {
   "cell_type": "code",
   "execution_count": 66,
   "metadata": {},
   "outputs": [
    {
     "data": {
      "image/png": "[encoded data removed]",
      "text/plain": [
       "<Figure size 864x432 with 2 Axes>"
      ]
     },
     "metadata": {
      "needs_background": "light"
     },
     "output_type": "display_data"
    }
   ],
   "source": [
    "def plot_loss_accuracy(history):\n",
    "    fig = plt.figure(figsize=(12, 6))\n",
    "    ax = fig.add_subplot(1, 2, 1)\n",
    "    ax.plot(history.history[\"loss\"],'r-x', label=\"Train Loss\")\n",
    "    ax.plot(history.history[\"val_loss\"],'b-x', label=\"Validation Loss\")\n",
    "    ax.legend()\n",
    "    ax.set_title('cross_entropy loss')\n",
    "    ax.grid(True)\n",
    "\n",
    "\n",
    "    ax = fig.add_subplot(1, 2, 2)\n",
    "    ax.plot(history.history[\"acc\"],'r-x', label=\"Train Accuracy\")\n",
    "    ax.plot(history.history[\"val_acc\"],'b-x', label=\"Validation Accuracy\")\n",
    "    ax.legend()\n",
    "    ax.set_title('accuracy')\n",
    "    ax.grid(True)\n",
    "    \n",
    "\n",
    "plot_loss_accuracy(history)"
   ]
  },
  {
   "cell_type": "code",
   "execution_count": null,
   "metadata": {},
   "outputs": [],
   "source": []
  }
 ],
 "metadata": {
  "kernelspec": {
   "display_name": "Python 3",
   "language": "python",
   "name": "python3"
  },
  "language_info": {
   "codemirror_mode": {
    "name": "ipython",
    "version": 3
   },
   "file_extension": ".py",
   "mimetype": "text/x-python",
   "name": "python",
   "nbconvert_exporter": "python",
   "pygments_lexer": "ipython3",
   "version": "3.6.7"
  }
 },
 "nbformat": 4,
 "nbformat_minor": 2
}
